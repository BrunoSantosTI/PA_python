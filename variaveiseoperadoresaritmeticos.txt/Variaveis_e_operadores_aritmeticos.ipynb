{
  "nbformat": 4,
  "nbformat_minor": 0,
  "metadata": {
    "colab": {
      "provenance": [],
      "authorship_tag": "ABX9TyO1h2zGE1XG9mZxQQgLJRk5",
      "include_colab_link": true
    },
    "kernelspec": {
      "name": "python3",
      "display_name": "Python 3"
    },
    "language_info": {
      "name": "python"
    }
  },
  "cells": [
    {
      "cell_type": "markdown",
      "metadata": {
        "id": "view-in-github",
        "colab_type": "text"
      },
      "source": [
        "<a href=\"https://colab.research.google.com/github/BrunoSantosTI/PA_python/blob/main/variaveiseoperadoresaritmeticos.txt/Variaveis_e_operadores_aritmeticos.ipynb\" target=\"_parent\"><img src=\"https://colab.research.google.com/assets/colab-badge.svg\" alt=\"Open In Colab\"/></a>"
      ]
    },
    {
      "cell_type": "code",
      "execution_count": 2,
      "metadata": {
        "id": "6-XqTushOle6",
        "colab": {
          "base_uri": "https://localhost:8080/"
        },
        "outputId": "216ef8b5-43bd-4867-d074-a2d47bd18ab1"
      },
      "outputs": [
        {
          "output_type": "stream",
          "name": "stdout",
          "text": [
            "Digite a nota da P1: 10\n",
            "Digite a nota da P2: 7\n",
            "A média é: 8.5\n"
          ]
        }
      ],
      "source": [
        "#CalculoMédia\n",
        "\n",
        "##Entrada\n",
        "## Recebe as notas das provas\n",
        "nota1 = float(input(\"Digite a nota da P1: \"))\n",
        "nota2 = float(input(\"Digite a nota da P2: \"))\n",
        "\n",
        "##Processamento\n",
        "## Calcula a média\n",
        "media = (nota1 + nota2) / 2\n",
        "\n",
        "##Saída\n",
        "print(f\"A média é: {media}\")\n",
        "\n",
        "\n",
        "\n"
      ]
    },
    {
      "cell_type": "code",
      "source": [
        "#ConversãodeMoeda\n",
        "\n",
        "##Entrada\n",
        "# Recebe a cotação do dólar e o valor em reais\n",
        "cotacao_dolar = float(input(\"Digite a cotação do dólar: \"))\n",
        "valor_reais = float(input(\"Digite o valor em reais: \"))\n",
        "\n",
        "##Processamento\n",
        "valor_dolar = valor_reais / cotacao_dolar\n",
        "\n",
        "##Saída\n",
        "print(f\"O valor em dólares é: ${valor_dolar:.2f}\")"
      ],
      "metadata": {
        "id": "foUfvixYUzQf",
        "colab": {
          "base_uri": "https://localhost:8080/"
        },
        "outputId": "a0272451-d1ff-458e-8f3a-5295cdf7d9ec"
      },
      "execution_count": 3,
      "outputs": [
        {
          "output_type": "stream",
          "name": "stdout",
          "text": [
            "Digite a cotação do dólar: 6.3\n",
            "Digite o valor em reais: 2\n",
            "O valor em dólares é: $0.32\n"
          ]
        }
      ]
    },
    {
      "cell_type": "code",
      "source": [
        "#CálculodeComissão\n",
        "\n",
        "##Entrada\n",
        "preco_unitario = float(input(\"Digite o preço unitário da peça: \"))\n",
        "quantidade_vendida = int(input(\"Digite a quantidade vendida: \"))\n",
        "\n",
        "##Processamento\n",
        "valor_total_venda = preco_unitario * quantidade_vendida\n",
        "comissao = valor_total_venda * 0.05\n",
        "\n",
        "##Saída\n",
        "print(f\"Valor total da venda: R${valor_total_venda:.2f}\")\n",
        "print(f\"Comissão do vendedor: R${comissao:.2f}\")\n"
      ],
      "metadata": {
        "id": "ZuCTA6VFVKB4",
        "colab": {
          "base_uri": "https://localhost:8080/"
        },
        "outputId": "0478a7ea-2de6-4581-ac03-8bbde8adf496"
      },
      "execution_count": 1,
      "outputs": [
        {
          "output_type": "stream",
          "name": "stdout",
          "text": [
            "Digite o preço unitário da peça: 105\n",
            "Digite a quantidade vendida: 4\n",
            "Valor total da venda: R$420.00\n",
            "Comissão do vendedor: R$21.00\n"
          ]
        }
      ]
    },
    {
      "cell_type": "code",
      "source": [
        "#Valor_final_de_um_carro\n",
        "\n",
        "##Entrada\n",
        "custo_de_fabrica = float(input(\"Digite custo de fábrica: \"))\n",
        "taxa_de_impostos =float(input(\"Digite a taxa de impostos em decimal: \"))\n",
        "taxa_de_destribuição =float(input(\"Digite a taxa de destribuição em decimal: \"))\n",
        "\n",
        "##Processamento\n",
        "valor_para_o_consumidor = (custo_de_fabrica+(custo_de_fabrica*taxa_de_impostos))+(taxa_de_destribuição*(custo_de_fabrica+(custo_de_fabrica*taxa_de_impostos)))\n",
        "\n",
        "##Saída\n",
        "print('O valor final e total para o consumidor é R$',valor_para_o_consumidor)"
      ],
      "metadata": {
        "id": "N9uenwPRVKPC",
        "colab": {
          "base_uri": "https://localhost:8080/"
        },
        "outputId": "f667f814-e52c-4ce4-ad39-195853fe00f7"
      },
      "execution_count": 6,
      "outputs": [
        {
          "output_type": "stream",
          "name": "stdout",
          "text": [
            "Digite custo de fábrica: 25000\n",
            "Digite a taxa de impostos em decimal: 0.45\n",
            "Digite a taxa de destribuição em decimal: 0.28\n",
            "O valor final e total para o consumidor é R$ 46400.0\n"
          ]
        }
      ]
    },
    {
      "cell_type": "code",
      "source": [
        "#CoversaoHoraseMinutosparaSegundos\n",
        "\n",
        "##Entrada\n",
        "horas = float(input('Digite o tempo em horas: '))\n",
        "minutos = float(input('Digite o tempo em minutos: '))\n",
        "\n",
        "##Processamento\n",
        "conversao = (horas*60)*60+(minutos*60)\n",
        "\n",
        "##Saída\n",
        "print('A conversão de, Horas e Minutos para Segundos, é igual a', conversao)"
      ],
      "metadata": {
        "id": "5pTj7xB4VKc0",
        "colab": {
          "base_uri": "https://localhost:8080/"
        },
        "outputId": "f75ebfc8-ce45-41f3-8bb3-490d5b5a7bfa"
      },
      "execution_count": 13,
      "outputs": [
        {
          "output_type": "stream",
          "name": "stdout",
          "text": [
            "Digite o tempo em horas: 5\n",
            "Digite o tempo em minutos: 30\n",
            "A conversão de, Horas e Minutos para Segundos, é igual a 19800.0\n"
          ]
        }
      ]
    },
    {
      "cell_type": "code",
      "source": [
        "#HoraExtra\n",
        "\n",
        "##Entrada\n",
        "horas = float(input('Digite o tempo em horas: '))\n",
        "minutos = float(input('Digite o tempo em minutos: '))\n",
        "valor_ph = float(input('Digite o valor por hora: '))\n",
        "porcentagem_paga_a_mais = float(input('Digite a porcentagem paga a mais por hora trabalhada em decimal: '))\n",
        "\n",
        "##Processamento\n",
        "tempo_total = horas+(minutos/60)\n",
        "valor_total_das_horas_extras = (tempo_total*valor_ph)+((tempo_total*valor_ph)*porcentagem_paga_a_mais)\n",
        "\n",
        "##Saída\n",
        "print('O valor total das horas extras trabalhadas é igual a R$', valor_total_das_horas_extras)"
      ],
      "metadata": {
        "id": "SUmGhnKrVK6y",
        "colab": {
          "base_uri": "https://localhost:8080/"
        },
        "outputId": "447c939f-8f5e-48a7-e4f5-ef70f2013478"
      },
      "execution_count": 17,
      "outputs": [
        {
          "output_type": "stream",
          "name": "stdout",
          "text": [
            "Digite o tempo em horas: 15\n",
            "Digite o tempo em minutos: 45\n",
            "Digite o valor por hora: 25\n",
            "Digite a porcentagem paga a mais por hora trabalhada em decimal: 0.70\n",
            "O valor total das horas extras trabalhadas é igual a R$ 669.375\n"
          ]
        }
      ]
    }
  ]
}