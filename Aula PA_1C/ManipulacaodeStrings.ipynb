{
  "nbformat": 4,
  "nbformat_minor": 0,
  "metadata": {
    "colab": {
      "provenance": [],
      "authorship_tag": "ABX9TyPKlXRUP0mcr9qhDOH2YG2P",
      "include_colab_link": true
    },
    "kernelspec": {
      "name": "python3",
      "display_name": "Python 3"
    },
    "language_info": {
      "name": "python"
    }
  },
  "cells": [
    {
      "cell_type": "markdown",
      "metadata": {
        "id": "view-in-github",
        "colab_type": "text"
      },
      "source": [
        "<a href=\"https://colab.research.google.com/github/BrunoSantosTI/PA_python/blob/main/Aula%20PA_1C/ManipulacaodeStrings.ipynb\" target=\"_parent\"><img src=\"https://colab.research.google.com/assets/colab-badge.svg\" alt=\"Open In Colab\"/></a>"
      ]
    },
    {
      "cell_type": "code",
      "execution_count": 8,
      "metadata": {
        "colab": {
          "base_uri": "https://localhost:8080/"
        },
        "id": "Ue-MgE_yePxT",
        "outputId": "3bffe3a8-3319-4464-b45a-be3b92235882"
      },
      "outputs": [
        {
          "output_type": "stream",
          "name": "stdout",
          "text": [
            "10\n"
          ]
        }
      ],
      "source": [
        "x = 'Catapimbas'\n",
        "print(len(x))"
      ]
    },
    {
      "cell_type": "code",
      "source": [
        "x [0]"
      ],
      "metadata": {
        "colab": {
          "base_uri": "https://localhost:8080/",
          "height": 35
        },
        "id": "iNPZSOR9flt0",
        "outputId": "d721bb36-ca55-40df-fff7-5d7a4058434e"
      },
      "execution_count": 5,
      "outputs": [
        {
          "output_type": "execute_result",
          "data": {
            "text/plain": [
              "'C'"
            ],
            "application/vnd.google.colaboratory.intrinsic+json": {
              "type": "string"
            }
          },
          "metadata": {},
          "execution_count": 5
        }
      ]
    },
    {
      "cell_type": "code",
      "source": [
        "x [2:5]"
      ],
      "metadata": {
        "colab": {
          "base_uri": "https://localhost:8080/",
          "height": 35
        },
        "id": "mNvLWLRJf_r2",
        "outputId": "83dd3091-db14-4fc9-9cd4-52d91c53bf83"
      },
      "execution_count": 7,
      "outputs": [
        {
          "output_type": "execute_result",
          "data": {
            "text/plain": [
              "'tap'"
            ],
            "application/vnd.google.colaboratory.intrinsic+json": {
              "type": "string"
            }
          },
          "metadata": {},
          "execution_count": 7
        }
      ]
    },
    {
      "cell_type": "code",
      "source": [
        "x.upper()"
      ],
      "metadata": {
        "colab": {
          "base_uri": "https://localhost:8080/",
          "height": 35
        },
        "id": "jv_Mca_YgsnE",
        "outputId": "d5a172d2-700d-4894-a63b-0a35b9d62fbf"
      },
      "execution_count": 10,
      "outputs": [
        {
          "output_type": "execute_result",
          "data": {
            "text/plain": [
              "'CATAPIMBAS'"
            ],
            "application/vnd.google.colaboratory.intrinsic+json": {
              "type": "string"
            }
          },
          "metadata": {},
          "execution_count": 10
        }
      ]
    },
    {
      "cell_type": "code",
      "source": [
        "txt = \"Eu gosto de vijar, tomar vinho, de estudar estudar programação, de estudar Pyhon\"\n",
        "txt.count('de')"
      ],
      "metadata": {
        "colab": {
          "base_uri": "https://localhost:8080/"
        },
        "id": "AbUIpJZeg42C",
        "outputId": "0635d987-8127-4923-d00c-0db60ec08db4"
      },
      "execution_count": 12,
      "outputs": [
        {
          "output_type": "execute_result",
          "data": {
            "text/plain": [
              "3"
            ]
          },
          "metadata": {},
          "execution_count": 12
        }
      ]
    },
    {
      "cell_type": "code",
      "source": [
        "txt.split(',')"
      ],
      "metadata": {
        "colab": {
          "base_uri": "https://localhost:8080/"
        },
        "id": "tK1rV9fnhWK7",
        "outputId": "b79bf9f2-41c0-4c98-9daf-58b007c35d3f"
      },
      "execution_count": 13,
      "outputs": [
        {
          "output_type": "execute_result",
          "data": {
            "text/plain": [
              "['Eu gosto de vijar',\n",
              " ' tomar vinho',\n",
              " ' de estudar estudar programação',\n",
              " ' de estudar Pyhon']"
            ]
          },
          "metadata": {},
          "execution_count": 13
        }
      ]
    },
    {
      "cell_type": "code",
      "source": [
        "nome = str(input('Digite o seu nome completo: '))\n",
        "vogal = ('a','e','i','o','u')\n",
        "total_vogal = 0\n",
        "\n",
        "print(nome.upper ())\n",
        "passe = 1\n",
        "\n",
        "if passe == 1:\n",
        "  print(nome.lower ())\n",
        "  passe = 2\n",
        "  if passe == 2:\n",
        "    asa = (\"\".join(nome.split(\" \")))\n",
        "    print('o total de letras é: ', len(asa))\n",
        "\n",
        "    passe = 3\n",
        "    if passe == 3:\n",
        "      print('o total de letras no prmeiro nome é: ',len(nome.split()[0]))\n",
        "      passe = 4\n",
        "      if passe == 4:\n",
        "        for v in vogal:\n",
        "          total_vogal += nome.lower().count(v)\n",
        "        print('total de vogais é: ',total_vogal)\n",
        "\n",
        "\n",
        "\n",
        "\n"
      ],
      "metadata": {
        "colab": {
          "base_uri": "https://localhost:8080/"
        },
        "id": "8IdfQnSPi13l",
        "outputId": "e59a45b1-e19d-4700-e988-cc5fc68af2c7"
      },
      "execution_count": 36,
      "outputs": [
        {
          "output_type": "stream",
          "name": "stdout",
          "text": [
            "Digite o seu nome completo: Bruno Ferreira dos Santos\n",
            "BRUNO FERREIRA DOS SANTOS\n",
            "bruno ferreira dos santos\n",
            "o total de letras é:  22\n",
            "o total de letras no prmeiro nome é:  5\n",
            "total de vogais é:  9\n"
          ]
        }
      ]
    },
    {
      "cell_type": "code",
      "source": [
        "nome = str(input('Digite o seu nome completo: '))\n",
        "\n",
        "vogal = ('a','e','i','o','u')\n",
        "total_vogal = 0\n",
        "for v in vogal:\n",
        "  total_vogal += nome.lower().count(v)\n",
        "print(total_vogal)"
      ],
      "metadata": {
        "colab": {
          "base_uri": "https://localhost:8080/"
        },
        "id": "4P4_HyRvrkV5",
        "outputId": "fd5c69f6-e0f0-4827-d444-78c2f2620bfe"
      },
      "execution_count": 34,
      "outputs": [
        {
          "output_type": "stream",
          "name": "stdout",
          "text": [
            "Digite o seu nome completo: bruno ferreira dos santos\n",
            "9\n"
          ]
        }
      ]
    }
  ]
}