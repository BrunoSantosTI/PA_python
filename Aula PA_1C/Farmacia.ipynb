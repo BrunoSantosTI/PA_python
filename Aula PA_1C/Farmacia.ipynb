{
  "nbformat": 4,
  "nbformat_minor": 0,
  "metadata": {
    "colab": {
      "provenance": [],
      "authorship_tag": "ABX9TyO8k0BbHdYQ/MXOWL8Slt1A",
      "include_colab_link": true
    },
    "kernelspec": {
      "name": "python3",
      "display_name": "Python 3"
    },
    "language_info": {
      "name": "python"
    }
  },
  "cells": [
    {
      "cell_type": "markdown",
      "metadata": {
        "id": "view-in-github",
        "colab_type": "text"
      },
      "source": [
        "<a href=\"https://colab.research.google.com/github/BrunoSantosTI/PA_python/blob/main/Aula%20PA_1C/Farmacia.ipynb\" target=\"_parent\"><img src=\"https://colab.research.google.com/assets/colab-badge.svg\" alt=\"Open In Colab\"/></a>"
      ]
    },
    {
      "cell_type": "code",
      "execution_count": 17,
      "metadata": {
        "colab": {
          "base_uri": "https://localhost:8080/"
        },
        "id": "fvFEpUBPWUxw",
        "outputId": "014a6f10-77f9-4808-f5cd-84a95af3bf55"
      },
      "outputs": [
        {
          "output_type": "stream",
          "name": "stdout",
          "text": [
            "Digite o preço do medicamento:  100\n",
            "Digite a sua idade:  10\n",
            "O valor do desconto é 15.0\n",
            "O valor final é 85.0\n"
          ]
        }
      ],
      "source": [
        "##Farmacia\n",
        "#Entrada\n",
        "remedio = input('Digite o preço do medicamento:  ')\n",
        "idade = float(input('Digite a sua idade:  '))\n",
        "desconto = 0\n",
        "#processamento\n",
        "valor_original = float(remedio)\n",
        "if (idade < 12):\n",
        "  desconto = 0.15\n",
        "elif (60 <= idade <= 75):\n",
        "  desconto = 0.20\n",
        "elif (idade > 75):\n",
        "  desconto = 0.25\n",
        "\n",
        "valor_desconto = valor_original * desconto\n",
        "valor_final = valor_original - valor_desconto\n",
        "\n",
        "#saida\n",
        "if desconto > 0:\n",
        "   print(f'O valor do desconto é {valor_desconto}')\n",
        "   print(f'O valor final é {valor_final}')\n",
        "else:\n",
        "   print('Você não tem direito a desconto')\n",
        ""
      ]
    },
    {
      "cell_type": "code",
      "source": [],
      "metadata": {
        "id": "JzBSEqOp3snw"
      },
      "execution_count": null,
      "outputs": []
    }
  ]
}