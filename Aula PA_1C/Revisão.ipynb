{
  "nbformat": 4,
  "nbformat_minor": 0,
  "metadata": {
    "colab": {
      "provenance": [],
      "authorship_tag": "ABX9TyP1Qs8BZDr6VlK22n84GqQh",
      "include_colab_link": true
    },
    "kernelspec": {
      "name": "python3",
      "display_name": "Python 3"
    },
    "language_info": {
      "name": "python"
    }
  },
  "cells": [
    {
      "cell_type": "markdown",
      "metadata": {
        "id": "view-in-github",
        "colab_type": "text"
      },
      "source": [
        "<a href=\"https://colab.research.google.com/github/BrunoSantosTI/PA_python/blob/main/Aula%20PA_1C/Revis%C3%A3o.ipynb\" target=\"_parent\"><img src=\"https://colab.research.google.com/assets/colab-badge.svg\" alt=\"Open In Colab\"/></a>"
      ]
    },
    {
      "cell_type": "code",
      "source": [
        "#positivo ou negativo\n",
        "##entrada\n",
        "n=float(input('Digite o seu número'))\n",
        "\n",
        "##processamento\n",
        "if n>=0:\n",
        "  print('O seu número é positvo')\n",
        "\n",
        "else:\n",
        "  print('O seu número é negativo')"
      ],
      "metadata": {
        "colab": {
          "base_uri": "https://localhost:8080/"
        },
        "id": "Kdv-fOAFLLgi",
        "outputId": "325c8486-46f2-4832-f799-3b16b72f927f"
      },
      "execution_count": null,
      "outputs": [
        {
          "output_type": "stream",
          "name": "stdout",
          "text": [
            "Digite o seu número-1\n",
            "O seu número é negativo\n"
          ]
        }
      ]
    },
    {
      "cell_type": "code",
      "execution_count": null,
      "metadata": {
        "colab": {
          "base_uri": "https://localhost:8080/"
        },
        "id": "cWLRK8NpJdul",
        "outputId": "71896172-52a2-43e8-a8ab-dded3b2e9698"
      },
      "outputs": [
        {
          "output_type": "stream",
          "name": "stdout",
          "text": [
            "Digite o número que deseja saber se é ímpar ou par1\n",
            "O seu número é ímpar\n"
          ]
        }
      ],
      "source": [
        "#ípar ou par\n",
        "\n",
        "##ENTRADA\n",
        "\n",
        "n = float(input('Digite o número que deseja saber se é ímpar ou par'))\n",
        "\n",
        "##PROCESSAMENTO\n",
        "if (n%2== 0):\n",
        "  print('O seu número é par')\n",
        "\n",
        "else:\n",
        "  print('O seu número é ímpar')\n"
      ]
    },
    {
      "cell_type": "code",
      "source": [
        "# Maioridade\n",
        "##entrada\n",
        "idade=float(input('Digite a sua idade: '))\n",
        "\n",
        "## processamento\n",
        "if idade>= 18:\n",
        "  print('Você é maior de idade')\n",
        "else:\n",
        "  print('Você é menor de idade')"
      ],
      "metadata": {
        "colab": {
          "base_uri": "https://localhost:8080/"
        },
        "id": "gfZFfrdzMGP0",
        "outputId": "b471aeca-22e9-4793-aef5-a6b857edc445"
      },
      "execution_count": null,
      "outputs": [
        {
          "output_type": "stream",
          "name": "stdout",
          "text": [
            "Digite a sua idade: 19\n",
            "Você é maior de idade\n"
          ]
        }
      ]
    },
    {
      "cell_type": "code",
      "source": [
        "# Senha Correta\n",
        "#entarada\n",
        "senha= float(input('Digite a senha de acesso: '))\n",
        "\n",
        "\n",
        "#preocesamento\n",
        "if senha==1234:\n",
        "  print('O acesso foi permitido')\n",
        "\n",
        "else:\n",
        "  print('O acesso foi negado')"
      ],
      "metadata": {
        "colab": {
          "base_uri": "https://localhost:8080/"
        },
        "id": "hZ6orgi2MqOk",
        "outputId": "6b0c165b-6911-4ae9-b261-cd8e30f63a01"
      },
      "execution_count": null,
      "outputs": [
        {
          "output_type": "stream",
          "name": "stdout",
          "text": [
            "Digite a senha de acesso: 5\n",
            "O acesso foi negado\n"
          ]
        }
      ]
    },
    {
      "cell_type": "code",
      "source": [
        "# Nota Escolar\n",
        "##entrada\n",
        "nota=float(input('Digite a sua nota: '))\n",
        "\n",
        "##processamento\n",
        "if nota>=6:\n",
        "  print('Você foi aprovado')\n",
        "\n",
        "else:\n",
        "  print('Você foi reprovado')\n"
      ],
      "metadata": {
        "colab": {
          "base_uri": "https://localhost:8080/"
        },
        "id": "XV_xaPJBNXKJ",
        "outputId": "0b71d20e-f307-43c2-f164-0422d4e3f5d4"
      },
      "execution_count": null,
      "outputs": [
        {
          "output_type": "stream",
          "name": "stdout",
          "text": [
            "Digite a sua nota: 6\n",
            "Você foi aprovado\n"
          ]
        }
      ]
    },
    {
      "cell_type": "code",
      "source": [
        "# Múltiplos\n",
        "##entrada\n",
        "n=int(input('Digite o número que deseja saber se ele é um múltiplo: '))\n",
        "\n",
        "##entrada\n",
        "if n%5 == 0 and n%3 == 0:\n",
        "        print('O seu número é múltiplo de ambos os números')\n",
        "\n",
        "elif  n%3 == 0:\n",
        "  print('O seu número é múltiplo de 3')\n",
        "\n",
        "elif n%5 == 0:\n",
        "      print('O seu número é múltiplo de 5')\n",
        "\n",
        "else:\n",
        "  print('O seu número não é múltiplo de  nenhum dos números')"
      ],
      "metadata": {
        "colab": {
          "base_uri": "https://localhost:8080/"
        },
        "id": "qd3eXTffODTS",
        "outputId": "fc3b3108-cfc9-4267-cb55-5127dbad2f0e"
      },
      "execution_count": null,
      "outputs": [
        {
          "output_type": "stream",
          "name": "stdout",
          "text": [
            "Digite o número que deseja saber se ele é um múltiplo: 5\n",
            "O seu número é múltiplo de 5\n"
          ]
        }
      ]
    },
    {
      "cell_type": "code",
      "source": [
        "# Intervalo\n",
        "## entrada\n",
        "n=float(input('Digite o número qeu quer saber se está no intervalo entre 10 e 20: '))\n",
        "\n",
        "##processamento\n",
        "if 10<=n<=20:\n",
        "  print('O seu número está dentro do intervalo')\n",
        "\n",
        "else:\n",
        "  print('O seu número não está dentro do intervalo')"
      ],
      "metadata": {
        "colab": {
          "base_uri": "https://localhost:8080/"
        },
        "id": "-ENPEwdISnFD",
        "outputId": "1217d9f1-6c57-4970-d807-fe8f695f81e9"
      },
      "execution_count": null,
      "outputs": [
        {
          "output_type": "stream",
          "name": "stdout",
          "text": [
            "Digite o número qeu quer saber se está no intervalo entre 10 e 20: 20\n",
            "O seu número está dentro do intervalo\n"
          ]
        }
      ]
    },
    {
      "cell_type": "code",
      "source": [
        "# Triângulo\n",
        "## entrada\n",
        "l1=float(input('Digite o valor do primeiro lado do triângulo: '))\n",
        "l2=float(input('Digite o valor do segundo lado do triângulo: '))\n",
        "l3=float(input('Digite o valor do terceiro lado do triângulo: '))\n",
        "\n",
        "## processamento\n",
        "if ((l1+l2)>l3) and ((l1+l3>l2)) and ((l2+l3>l1)):\n",
        "  print('Os valores dados formam um triângulo')\n",
        "  if l1==l2 and l1==l3 and l2==l3:\n",
        "    print('O seu triângulo é equilátero')\n",
        "  elif (l1 == l2 !=l3) or (l1 == l3 !=l2) or (l2 == l3 !=l1):\n",
        "    print('O seu triângulo é isóceles')\n",
        "  else:\n",
        "    print('O seu triângulo é escaleno')\n",
        "else:\n",
        "  print('Os valores dados não formam um triângulo')"
      ],
      "metadata": {
        "id": "z67LF8X1TUSN",
        "colab": {
          "base_uri": "https://localhost:8080/"
        },
        "outputId": "89a36409-8b59-4eae-c58e-a5cb18e53b6d"
      },
      "execution_count": 8,
      "outputs": [
        {
          "output_type": "stream",
          "name": "stdout",
          "text": [
            "Digite o valor do primeiro lado do triângulo: 5\n",
            "Digite o valor do segundo lado do triângulo: 7\n",
            "Digite o valor do terceiro lado do triângulo: 9\n",
            "Os valores dados formam um triângulo\n",
            "O seu triângulo é escaleno\n"
          ]
        }
      ]
    }
  ]
}