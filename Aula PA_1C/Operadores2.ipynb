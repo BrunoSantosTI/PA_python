{
  "nbformat": 4,
  "nbformat_minor": 0,
  "metadata": {
    "colab": {
      "provenance": [],
      "authorship_tag": "ABX9TyN6VezwZRqYwypPP/E0KUvW",
      "include_colab_link": true
    },
    "kernelspec": {
      "name": "python3",
      "display_name": "Python 3"
    },
    "language_info": {
      "name": "python"
    }
  },
  "cells": [
    {
      "cell_type": "markdown",
      "metadata": {
        "id": "view-in-github",
        "colab_type": "text"
      },
      "source": [
        "<a href=\"https://colab.research.google.com/github/BrunoSantosTI/PA_python/blob/main/Aula%20PA_1C/Operadores2.ipynb\" target=\"_parent\"><img src=\"https://colab.research.google.com/assets/colab-badge.svg\" alt=\"Open In Colab\"/></a>"
      ]
    },
    {
      "cell_type": "markdown",
      "source": [
        "1. Comparação de Idades\n",
        "\n",
        "Peça ao usuário duas idades. Mostre se a primeira idade é maior\n",
        "que a segunda."
      ],
      "metadata": {
        "id": "A9Sv3ubOuEIJ"
      }
    },
    {
      "cell_type": "code",
      "execution_count": null,
      "metadata": {
        "colab": {
          "base_uri": "https://localhost:8080/"
        },
        "id": "AGDLkXMkqOEo",
        "outputId": "bd346309-5261-429a-baf8-c494c53e9aa5"
      },
      "outputs": [
        {
          "output_type": "stream",
          "name": "stdout",
          "text": [
            "digite a primeira idade: 19\n",
            "digite a segunda idade: 15\n",
            "A primeira idade é maior? True\n"
          ]
        }
      ],
      "source": [
        "#Diferença de idade\n",
        "##Entrada\n",
        "idade1=float(input('digite a primeira idade: '))\n",
        "idade2=float(input('digite a segunda idade: '))\n",
        "\n",
        "##Processamento\n",
        "idademaior=(idade1>=idade2)and(idade2 <= idade1)\n",
        "\n",
        "##Saída\n",
        "print('A primeira idade é maior?',idademaior)"
      ]
    },
    {
      "cell_type": "markdown",
      "source": [
        "2. Validação de Acesso\n",
        "\n",
        "Usuário precisa ter mais de 18 anos e a senha correta (\"1234\")\n",
        "para acessar o sistema."
      ],
      "metadata": {
        "id": "5XlAeDahuPFi"
      }
    },
    {
      "cell_type": "code",
      "source": [
        "#Validação de acesso\n",
        "##entrada\n",
        "idade=float(input('Digite a sua idade: '))\n",
        "senhausuario=float(input('Digite a senha de acesso: '))\n",
        "senha=1234\n",
        "\n",
        "##processamento\n",
        "permitido=(senhausuario==1234)and(idade>=18)\n",
        "\n",
        "##saida\n",
        "print('O acesso é permitido?: ',permitido)"
      ],
      "metadata": {
        "colab": {
          "base_uri": "https://localhost:8080/"
        },
        "id": "eEFOAWlxt_fF",
        "outputId": "125d14f0-951b-4e86-8bbb-7234cc193509"
      },
      "execution_count": null,
      "outputs": [
        {
          "output_type": "stream",
          "name": "stdout",
          "text": [
            "Digite a sua idade: 586\n",
            "Digite a senha de acesso: 43522\n",
            "O acesso é permitido?:  False\n"
          ]
        }
      ]
    },
    {
      "cell_type": "markdown",
      "source": [
        "3. Número Fora de Intervalo\n",
        "\n",
        "Verifique se um número não está entre 10 e 50."
      ],
      "metadata": {
        "id": "fvgVQBfcxPeE"
      }
    },
    {
      "cell_type": "code",
      "source": [
        "#Número Fora de Intervalo\n",
        "##entrada\n",
        "numero=float(input('Digite o número que quer saber se está entre 10 e 50: '))\n",
        "\n",
        "##processamento\n",
        "intervalo=(numero>=10)and(numero<=50)\n",
        "\n",
        "##saida\n",
        "print('O número está entre 10 e 50: ',intervalo)"
      ],
      "metadata": {
        "colab": {
          "base_uri": "https://localhost:8080/"
        },
        "id": "dXNoxRPtxXQa",
        "outputId": "ef771ae1-d1c2-43af-d955-9f13f6218924"
      },
      "execution_count": null,
      "outputs": [
        {
          "output_type": "stream",
          "name": "stdout",
          "text": [
            "Digite o número que quer saber se está entre 10 e 50: 33\n",
            "O número está entre 10 e 50:  True\n"
          ]
        }
      ]
    },
    {
      "cell_type": "markdown",
      "source": [
        "4. Compra Aprovação\n",
        "\n",
        "Em uma loja, o cliente pode fazer a compra se tiver saldo suficiente\n",
        "ou se tiver um cupom de desconto ativo (tem_cupom == True)."
      ],
      "metadata": {
        "id": "UAlJPu1Uyx-k"
      }
    },
    {
      "cell_type": "code",
      "source": [
        "#Compra Aprovação\n",
        "##entrada\n",
        "valorcompra=float(input('Digite o valor da compra: '))\n",
        "saldo=float(input('Digite o valor do seu saldo: '))\n",
        "cupom=bool(input('Você tem cupom?(true/false): '))\n",
        "\n",
        "\n",
        "##processamento\n",
        "true=True\n",
        "false=False\n",
        "podepagar=(cupom==True) or (saldo>=valorcompra)\n",
        "\n",
        "##saida\n",
        "print('Você pode pagar?: ',podepagar)"
      ],
      "metadata": {
        "colab": {
          "base_uri": "https://localhost:8080/"
        },
        "id": "nChmxgFZy2iF",
        "outputId": "bcb695fe-4b2e-4c6b-ccff-d2e54fe23723"
      },
      "execution_count": null,
      "outputs": [
        {
          "output_type": "stream",
          "name": "stdout",
          "text": [
            "Digite o valor da compra: 200\n",
            "Digite o valor do seu saldo: 10\n",
            "Você tem cupom?(true/false): true\n",
            "Você pode pagar?:  True\n"
          ]
        }
      ]
    },
    {
      "cell_type": "markdown",
      "source": [
        "5. Checar Condições Múltiplas\n",
        "\n",
        "Verifique se um número é positivo e par.\n"
      ],
      "metadata": {
        "id": "-X21J7M379uj"
      }
    },
    {
      "cell_type": "code",
      "source": [
        "#descobrir se um número é ímpar ou par e positivo ou negatiuvo\n",
        "##Entrada\n",
        "valor=float(input('digite o número que quer saber se é ímpar ou par e positivo ou negativo: '))\n",
        "\n",
        "##Processamento\n",
        "impar = (valor%2 == 1)\n",
        "par = (valor%2 == 0)\n",
        "negativo = (valor<0)\n",
        "positivo = (valor>=0)\n",
        "\n",
        "##Saída\n",
        "print('O número: ',valor,'é impar: ', impar)\n",
        "print('O número: ',valor,'é par: ', par)\n",
        "print('O número: ',valor,'é negativo: ', negativo)\n",
        "print('O número: ',valor,'é positivo', positivo)"
      ],
      "metadata": {
        "colab": {
          "base_uri": "https://localhost:8080/"
        },
        "id": "-6G9oJv98C_i",
        "outputId": "2e4437c0-1f59-4458-fdbb-f4ab19dd10d9"
      },
      "execution_count": null,
      "outputs": [
        {
          "output_type": "stream",
          "name": "stdout",
          "text": [
            "digite o número que quer saber se é ímpar ou par e positivo ou negativo: 2\n",
            "O número:  2.0 é impar:  False\n",
            "O número:  2.0 é par:  True\n",
            "O número:  2.0 é negativo:  False\n",
            "O número:  2.0 é positivo True\n"
          ]
        }
      ]
    },
    {
      "cell_type": "markdown",
      "source": [
        "6. Verificar Se É Adolescente\n",
        "\n",
        "Verifique se uma pessoa tem entre 13 e 17 anos"
      ],
      "metadata": {
        "id": "PNOXCaiY9pbV"
      }
    },
    {
      "cell_type": "code",
      "source": [
        "#Verificar se é adolescente\n",
        "##entrada\n",
        "idade=float(input('Digite a idade que quer saber se está entre 13 e 17 anos: '))\n",
        "\n",
        "##processamento\n",
        "adolescente=(idade>=13)and(idade<=17)\n",
        "\n",
        "##saida\n",
        "print('Você é adolescente?: ',adolescente)"
      ],
      "metadata": {
        "colab": {
          "base_uri": "https://localhost:8080/"
        },
        "id": "2woiueaz9vHD",
        "outputId": "f3844ea3-dee4-4427-8d95-b9f0446380fb"
      },
      "execution_count": null,
      "outputs": [
        {
          "output_type": "stream",
          "name": "stdout",
          "text": [
            "Digite a idade que quer saber se está entre 13 e 17 anos: 14\n",
            "A idade está entre 13 e 17?:  True\n"
          ]
        }
      ]
    },
    {
      "cell_type": "markdown",
      "source": [
        "7. Senha Correta ou Admin\n",
        "\n",
        "Permita o acesso se a senha estiver correta (\"12345\") ou se o\n",
        "usuário for administrador (admin == True)."
      ],
      "metadata": {
        "id": "IOMRRIF8_KYq"
      }
    },
    {
      "cell_type": "code",
      "source": [
        "#Validação de acesso\n",
        "##entrada\n",
        "admin=(input('Você é um admin?(s/n): '))\n",
        "senhausuario=float(input('Digite a senha de acesso: '))\n",
        "senha=12345\n",
        "\n",
        "##processamento\n",
        "\n",
        "permitido=(senhausuario==12345) or (admin==\"s\")\n",
        "\n",
        "##saida\n",
        "print('O acesso é permitido?: ',permitido)"
      ],
      "metadata": {
        "colab": {
          "base_uri": "https://localhost:8080/"
        },
        "id": "5aDmXJ_o_Sl1",
        "outputId": "ba660d21-1202-49be-f476-a237ad515419"
      },
      "execution_count": null,
      "outputs": [
        {
          "output_type": "stream",
          "name": "stdout",
          "text": [
            "Você é um admin?(s/n): s\n",
            "Digite a senha de acesso: 4723437234735\n",
            "O acesso é permitido?:  True\n"
          ]
        }
      ]
    },
    {
      "cell_type": "markdown",
      "source": [
        "8. Nota para Aprovação\n",
        "\n",
        "Uma pessoa passa se tiver nota maior ou igual a 6 e não estiver\n",
        "ausente (presente == True)."
      ],
      "metadata": {
        "id": "DFi4wRYBDZbr"
      }
    },
    {
      "cell_type": "code",
      "source": [
        "# Nota para Aprovação\n",
        "##entrada\n",
        "nota=float(input('Digite a sua nota: '))\n",
        "presenca=bool(input('Você estava presente?(true/false): '))\n",
        "\n",
        "##processamento\n",
        "aprovado=(nota>=6 and nota<=10) and (presenca==True)\n",
        "\n",
        "##saida\n",
        "print('Você foi aprovado?: ',aprovado)"
      ],
      "metadata": {
        "colab": {
          "base_uri": "https://localhost:8080/"
        },
        "id": "NUBhiq1bDeK9",
        "outputId": "632d514e-cd4f-4915-af97-808edf2e7009"
      },
      "execution_count": null,
      "outputs": [
        {
          "output_type": "stream",
          "name": "stdout",
          "text": [
            "Digite a sua nota: 5\n",
            "Você estava presente?(true/false): false\n",
            "Você foi aprovado?:  False\n"
          ]
        }
      ]
    },
    {
      "cell_type": "markdown",
      "source": [
        "9. Sistema de Multa de Velocidade\n",
        "\n",
        "Verifique se a velocidade é maior que 80 km/h. Se for, a pessoa\n",
        "está multada."
      ],
      "metadata": {
        "id": "gM3dHBBMFn7n"
      }
    },
    {
      "cell_type": "code",
      "source": [
        "# Sistema de Multa de Velocidade\n",
        "##entrada\n",
        "velocidade=float(input('Qual a sua velocidade?: '))\n",
        "\n",
        "##processamento\n",
        "multa=velocidade>80\n",
        "\n",
        "##saida\n",
        "print('Você será multado?: ', multa)"
      ],
      "metadata": {
        "colab": {
          "base_uri": "https://localhost:8080/"
        },
        "id": "PEZzCYRrFycS",
        "outputId": "121aa216-d326-4c94-95ee-b8aa63a5edbe"
      },
      "execution_count": null,
      "outputs": [
        {
          "output_type": "stream",
          "name": "stdout",
          "text": [
            "Qual a sua velocidade?: 900\n",
            "Você será multado?:  True\n"
          ]
        }
      ]
    },
    {
      "cell_type": "markdown",
      "source": [
        "10. Triagem de Evento\n",
        "\n",
        "Permita a entrada no evento apenas para quem tiver convite\n",
        "(tem_convite == True) e idade maior ou igual a 18 anos."
      ],
      "metadata": {
        "id": "-AGdRcTWsB9b"
      }
    },
    {
      "cell_type": "code",
      "source": [
        "# Triagem de Evento\n",
        "## entrada\n",
        "tem_convite=bool(input('Você tem convite?(s/n): '))\n",
        "idade=float(input('Qual a sua idade?: '))\n",
        "s= True\n",
        "n= False\n",
        "\n",
        "##processamento\n",
        "acesso=(tem_convite==True) and (idade>=18)\n",
        "\n",
        "##saida\n",
        "print('Você tem acesso ?:',acesso)"
      ],
      "metadata": {
        "colab": {
          "base_uri": "https://localhost:8080/"
        },
        "id": "XJsJgt5-sNZE",
        "outputId": "99c4f8a7-0dce-485d-d47c-0304bd67cbfa"
      },
      "execution_count": 12,
      "outputs": [
        {
          "output_type": "stream",
          "name": "stdout",
          "text": [
            "Você tem convite?(s/n): s\n",
            "Qual a sua idade?: 21\n",
            "Você tem acesso?:  True\n"
          ]
        }
      ]
    }
  ]
}