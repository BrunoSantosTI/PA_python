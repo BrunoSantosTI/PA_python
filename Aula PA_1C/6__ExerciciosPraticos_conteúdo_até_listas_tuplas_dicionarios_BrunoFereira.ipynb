{
  "nbformat": 4,
  "nbformat_minor": 0,
  "metadata": {
    "colab": {
      "provenance": [],
      "authorship_tag": "ABX9TyMg4g+I+kKDxhogEB1+S6P6",
      "include_colab_link": true
    },
    "kernelspec": {
      "name": "python3",
      "display_name": "Python 3"
    },
    "language_info": {
      "name": "python"
    }
  },
  "cells": [
    {
      "cell_type": "markdown",
      "metadata": {
        "id": "view-in-github",
        "colab_type": "text"
      },
      "source": [
        "<a href=\"https://colab.research.google.com/github/BrunoSantosTI/PA_python/blob/main/Aula%20PA_1C/6__ExerciciosPraticos_conte%C3%BAdo_at%C3%A9_listas_tuplas_dicionarios_BrunoFereira.ipynb\" target=\"_parent\"><img src=\"https://colab.research.google.com/assets/colab-badge.svg\" alt=\"Open In Colab\"/></a>"
      ]
    },
    {
      "cell_type": "code",
      "execution_count": 2,
      "metadata": {
        "colab": {
          "base_uri": "https://localhost:8080/"
        },
        "id": "QKg_ybIAWVRu",
        "outputId": "8f12a728-5c6d-4f66-bf54-c82267b1ef16"
      },
      "outputs": [
        {
          "output_type": "stream",
          "name": "stdout",
          "text": [
            "Digite o seu nome: sduyf ds\n",
            "Digite a sua turmafjsdtguifg\n",
            "O seu nome é sduyf ds e sua turma é fjsdtguifg\n"
          ]
        }
      ],
      "source": [
        "# Exercício 1 inserir os seus dados acima em variáveis\n",
        "## entrada\n",
        "nome = str(input('Digite o seu nome: '))\n",
        "turma = (input('Digite a sua turma'))\n",
        "\n",
        "print('O seu nome é',nome, ', e sua turma é', turma)"
      ]
    },
    {
      "cell_type": "code",
      "source": [
        "# Exercício 2 -Apos inserir dados acima usando o slicing (exemplo no notebook de manipulação de Strings), imprima na tela apenas seu sobrenome\n",
        "## entrada\n",
        "nome = 'Bruno Ferreira'\n",
        "turma='Manhã'\n",
        "\n",
        "##processamento e saída\n",
        "print(nome[6:])"
      ],
      "metadata": {
        "colab": {
          "base_uri": "https://localhost:8080/"
        },
        "id": "12Ogv-uSY9wF",
        "outputId": "c7977db1-f8e4-4369-cc22-a9543cefadb1"
      },
      "execution_count": 6,
      "outputs": [
        {
          "output_type": "stream",
          "name": "stdout",
          "text": [
            "Ferreira\n"
          ]
        }
      ]
    },
    {
      "cell_type": "code",
      "source": [
        "# Exercício 3 -  imprima seu nome de trás pra frente\n",
        "nome = 'Bruno Ferreira'\n",
        "turma='Manhã'\n",
        "\n",
        "##processamento e saída\n",
        "print(nome[::-1])"
      ],
      "metadata": {
        "colab": {
          "base_uri": "https://localhost:8080/"
        },
        "id": "8XIo_gjGbgjf",
        "outputId": "005a360c-5b12-4b16-ea6f-c83caccac104"
      },
      "execution_count": 8,
      "outputs": [
        {
          "output_type": "stream",
          "name": "stdout",
          "text": [
            "arierreF onurB\n"
          ]
        }
      ]
    },
    {
      "cell_type": "code",
      "source": [
        "# Exercício 4 - pegue a frase abaixo, aplique o split para fazer uma quebra toda vez que encontrar uma \",\"\n",
        "##entrada\n",
        "frase = \"Python é a linguagem ideal para o primeiro contato com programação, além da sua sintaxe simples e muito poderosa, Python tem diversas aplicações como: desenvolvimento web, análise de dados, inteligência artificial e automatização de tarefas, neste curso você aprenderá a lógica de programação para conquistar fluência na linguagem, a comunidade Python é a que mais cresce, assim como sua demanda de profissionais no mercado.\"\n",
        "\n",
        "##processamento e saída\n",
        "frase.split(',')"
      ],
      "metadata": {
        "colab": {
          "base_uri": "https://localhost:8080/"
        },
        "id": "7dNZbfsbb5e8",
        "outputId": "ab707763-cae9-457d-8cb8-055fce80f5f5"
      },
      "execution_count": 9,
      "outputs": [
        {
          "output_type": "execute_result",
          "data": {
            "text/plain": [
              "['Python é a linguagem ideal para o primeiro contato com programação',\n",
              " ' além da sua sintaxe simples e muito poderosa',\n",
              " ' Python tem diversas aplicações como: desenvolvimento web',\n",
              " ' análise de dados',\n",
              " ' inteligência artificial e automatização de tarefas',\n",
              " ' neste curso você aprenderá a lógica de programação para conquistar fluência na linguagem',\n",
              " ' a comunidade Python é a que mais cresce',\n",
              " ' assim como sua demanda de profissionais no mercado.']"
            ]
          },
          "metadata": {},
          "execution_count": 9
        }
      ]
    },
    {
      "cell_type": "code",
      "source": [
        "# Exercício 5 -Imprima na tela os números de 1 a 10. Use uma lista para armazenar os números.\n",
        "##entrada\n",
        "for i in range(0,11):\n",
        "  print (i)\n",
        "\n",
        "num = [i]\n",
        "\n",
        "print (num)"
      ],
      "metadata": {
        "colab": {
          "base_uri": "https://localhost:8080/"
        },
        "id": "2GtG069xcf35",
        "outputId": "987e0e86-ead8-4766-96fb-f38dc068f9b0"
      },
      "execution_count": 18,
      "outputs": [
        {
          "output_type": "stream",
          "name": "stdout",
          "text": [
            "0\n",
            "1\n",
            "2\n",
            "3\n",
            "4\n",
            "5\n",
            "6\n",
            "7\n",
            "8\n",
            "9\n",
            "10\n",
            "[10]\n"
          ]
        }
      ]
    },
    {
      "cell_type": "code",
      "source": [
        "# Exercício 6 - Crie uma lista de 5 objetos e imprima na tela\n",
        "\n",
        "objetos = ['teclado', 'mouse', 'monitor', 'pendrive', 'cpu']\n",
        "\n",
        "print (objetos)"
      ],
      "metadata": {
        "colab": {
          "base_uri": "https://localhost:8080/"
        },
        "id": "h3oKlfgOdEkR",
        "outputId": "e3e14585-aaa4-4573-82b4-d830edfe9c7c"
      },
      "execution_count": 15,
      "outputs": [
        {
          "output_type": "stream",
          "name": "stdout",
          "text": [
            "['teclado', 'mouse', 'monitor', 'pendrive', 'cpu']\n"
          ]
        }
      ]
    },
    {
      "cell_type": "code",
      "source": [
        "# Exercício 7 - - Crie duas strings e concatene as duas em uma terceira string\n",
        "##entrada\n",
        "nome1 = str(input('Digite o seu nome: '))\n",
        "nome2 = str(input('Digite o segundo nome: '))\n",
        "\n",
        "## procesamento e saída\n",
        "print(nome1, nome2)"
      ],
      "metadata": {
        "colab": {
          "base_uri": "https://localhost:8080/"
        },
        "id": "S787gdTxdzDH",
        "outputId": "a8d50272-9cb8-4bdc-8a09-bfdbcdd05b31"
      },
      "execution_count": 20,
      "outputs": [
        {
          "output_type": "stream",
          "name": "stdout",
          "text": [
            "Digite o seu nome: Bruno F\n",
            "Digite o segundo nome: Arthur F\n",
            "Bruno F Arthur F\n"
          ]
        }
      ]
    },
    {
      "cell_type": "code",
      "source": [
        "# Exercício 8 - Crie uma tupla com os seguintes elementos: 1, 2, 2, 3, 4, 4, 4, 5 e depois utilize a função count do\n",
        "# objeto tupla para verificar quantas vezes o número 4 aparece na tupla\n",
        "\n",
        "numeros = ('1', '2', '2', '3', '4', '4', '4', '5')\n",
        "\n",
        "numeros.count('4')"
      ],
      "metadata": {
        "colab": {
          "base_uri": "https://localhost:8080/"
        },
        "id": "JIuGzgy0eszF",
        "outputId": "56e6fedd-a8ed-40a2-90b5-587c6864a7f4"
      },
      "execution_count": 22,
      "outputs": [
        {
          "output_type": "execute_result",
          "data": {
            "text/plain": [
              "3"
            ]
          },
          "metadata": {},
          "execution_count": 22
        }
      ]
    },
    {
      "cell_type": "code",
      "source": [
        "# Exercício 9 - Crie um dicionário vazio e imprima na tela\n",
        "\n",
        "meudicionario = {\n",
        "\n",
        "}\n",
        "\n",
        "print(meudicionario)"
      ],
      "metadata": {
        "colab": {
          "base_uri": "https://localhost:8080/"
        },
        "id": "T6UzhqF9f68E",
        "outputId": "06abec6b-93bc-4c86-8b7b-d85a90ec1cbb"
      },
      "execution_count": 35,
      "outputs": [
        {
          "output_type": "stream",
          "name": "stdout",
          "text": [
            "{}\n"
          ]
        }
      ]
    },
    {
      "cell_type": "code",
      "source": [
        "# Exercício 10 - Crie um dicionário com 3 chaves e 3 valores e imprima na tela\n",
        "meudicionario = {\n",
        "    'nome':'Bruno',\n",
        "    'idade' : 15,\n",
        "    'notas' : [10, 9, 10]\n",
        "\n",
        "\n",
        "}\n",
        "\n",
        "print(meudicionario)"
      ],
      "metadata": {
        "colab": {
          "base_uri": "https://localhost:8080/"
        },
        "id": "nTvShbAogBl6",
        "outputId": "9eba4bac-15d0-4af4-e11e-be6042864e76"
      },
      "execution_count": 37,
      "outputs": [
        {
          "output_type": "stream",
          "name": "stdout",
          "text": [
            "{'nome': 'Bruno', 'idade': 15, 'notas': [10, 9, 10]}\n"
          ]
        }
      ]
    },
    {
      "cell_type": "code",
      "source": [
        "# Exercício 11 - Adicione mais um elemento ao dicionário criado no exercício anterior e imprima na tela\n",
        "\n",
        "meudicionario['estado'] = 'sp'\n",
        "\n",
        "print(meudicionario)"
      ],
      "metadata": {
        "colab": {
          "base_uri": "https://localhost:8080/"
        },
        "id": "RqJ-5ji_gFeD",
        "outputId": "6073087b-c503-49f5-a026-b71a24e0c620"
      },
      "execution_count": 39,
      "outputs": [
        {
          "output_type": "stream",
          "name": "stdout",
          "text": [
            "{'nome': 'Bruno', 'idade': 15, 'notas': [10, 9, 10], 'estado': 'sp'}\n"
          ]
        }
      ]
    },
    {
      "cell_type": "code",
      "source": [
        "# Exercício 12 - Crie um dicionário com 3 chaves e 3 valores. Um dos valores deve ser uma lista de 2 elementos numéricos.\n",
        "# Imprima o dicionário na tela.\n",
        "dicionario2 = {\n",
        "    'nomes':['Bruno','Roberto'],\n",
        "    'idades':[11,15],\n",
        "    'notas':[10,9]\n",
        "}\n",
        "\n",
        "print(dicionario2)"
      ],
      "metadata": {
        "colab": {
          "base_uri": "https://localhost:8080/"
        },
        "id": "LKjAl5-TgPCW",
        "outputId": "224539fe-15da-42bd-92fb-748511f04f6a"
      },
      "execution_count": 40,
      "outputs": [
        {
          "output_type": "stream",
          "name": "stdout",
          "text": [
            "{'nomes': ['Bruno', 'Roberto'], 'idades': [11, 15], 'notas': [10, 9]}\n"
          ]
        }
      ]
    },
    {
      "cell_type": "code",
      "source": [
        "# Exercício 13 - Crie uma lista de 4 elementos. O primeiro elemento deve ser uma string,\n",
        "# o segundo uma tupla de 2 elementos, o terceiro um dcionário com 2 chaves e 2 valores e\n",
        "# o quarto elemento um valor do tipo float.\n",
        "# Imprima a lista na tela.\n",
        "\n",
        "elementos = [\n",
        "    'marcio',\n",
        "    ('2', '3'),\n",
        "    {'cidade' : 'Ribeirão','gosto' : 'strogonoff'},\n",
        "    1.0\n",
        "\n",
        "\n",
        "]\n",
        "\n",
        "print(elementos)"
      ],
      "metadata": {
        "colab": {
          "base_uri": "https://localhost:8080/"
        },
        "id": "L24L81oWgTHi",
        "outputId": "63ee54ed-8d64-4dea-ee7d-c36e42305f32"
      },
      "execution_count": 42,
      "outputs": [
        {
          "output_type": "stream",
          "name": "stdout",
          "text": [
            "['marcio', ('2', '3'), {'cidade': 'Ribeirão', 'gosto': 'strogonoff'}, 1.0]\n"
          ]
        }
      ]
    },
    {
      "cell_type": "code",
      "source": [
        "\n",
        "# Exercício 14 - Considere a string abaixo. Imprima na tela apenas os caracteres da posição 1 a 18.\n",
        "frase = 'Cientista de Dados é o profissional mais legal do século XXI'\n",
        "print(frase[1:18])"
      ],
      "metadata": {
        "colab": {
          "base_uri": "https://localhost:8080/"
        },
        "id": "99AaNrv6gWJr",
        "outputId": "3b4c1433-8abb-4798-89b3-40e9ae806f42"
      },
      "execution_count": 23,
      "outputs": [
        {
          "output_type": "stream",
          "name": "stdout",
          "text": [
            "ientista de Dados\n"
          ]
        }
      ]
    },
    {
      "cell_type": "code",
      "source": [
        "# 1 - Use o método len para imprimir o comprimento da string.\n",
        "x = \"Hello World\"\n",
        "print(len(x))"
      ],
      "metadata": {
        "colab": {
          "base_uri": "https://localhost:8080/"
        },
        "id": "lxrQFY4qhUNm",
        "outputId": "a02424ae-576c-4f5e-9f27-1900454f1e81"
      },
      "execution_count": 24,
      "outputs": [
        {
          "output_type": "stream",
          "name": "stdout",
          "text": [
            "11\n"
          ]
        }
      ]
    },
    {
      "cell_type": "code",
      "source": [
        "# 2 - Obtenha o primeiro caractere da string txt.\n",
        "txt = \"Hello World\"\n",
        "print(txt[0:1])\n"
      ],
      "metadata": {
        "colab": {
          "base_uri": "https://localhost:8080/"
        },
        "id": "3TXKTEBihZiT",
        "outputId": "2adc9cc1-fb7b-464c-cffc-062cd19b5de3"
      },
      "execution_count": 28,
      "outputs": [
        {
          "output_type": "stream",
          "name": "stdout",
          "text": [
            "H\n"
          ]
        }
      ]
    },
    {
      "cell_type": "code",
      "source": [
        "# 3 - Obtenha os caracteres do índice 2 ao índice 4 ( llo).\n",
        "txt = \"Hello World\"\n",
        "print(x[2:5])"
      ],
      "metadata": {
        "colab": {
          "base_uri": "https://localhost:8080/"
        },
        "id": "TorrevoOianD",
        "outputId": "d1e9f2b8-e7ba-4523-e403-6893bf916091"
      },
      "execution_count": 30,
      "outputs": [
        {
          "output_type": "stream",
          "name": "stdout",
          "text": [
            "llo\n"
          ]
        }
      ]
    },
    {
      "cell_type": "code",
      "source": [
        "# 4 - Converta o valor de txt para maiúsculas.\n",
        "txt = \"Hello World\"\n",
        "print(txt.upper())"
      ],
      "metadata": {
        "colab": {
          "base_uri": "https://localhost:8080/"
        },
        "id": "aGE71RhJio8u",
        "outputId": "ef731927-7dc6-4dbd-c589-8cb4689b6586"
      },
      "execution_count": 32,
      "outputs": [
        {
          "output_type": "stream",
          "name": "stdout",
          "text": [
            "HELLO WORLD\n"
          ]
        }
      ]
    },
    {
      "cell_type": "code",
      "source": [
        "# - Conte quantas vezes aparece a palavra \"de\" na string abaixo\n",
        "txt = \"Eu gosto de vijar, tomar vinho, de estudar estudar programação, de estudar Pyhon\"\n",
        "txt.count('de')"
      ],
      "metadata": {
        "colab": {
          "base_uri": "https://localhost:8080/"
        },
        "id": "9PueBKChi3TZ",
        "outputId": "a864cc48-0ea6-4977-d311-e3ee37919558"
      },
      "execution_count": 33,
      "outputs": [
        {
          "output_type": "execute_result",
          "data": {
            "text/plain": [
              "3"
            ]
          },
          "metadata": {},
          "execution_count": 33
        }
      ]
    },
    {
      "cell_type": "code",
      "source": [
        "# - Separe a frase abaixo toda vez que encontrar um vírgula\n",
        "txt = \"Eu gosto de vijar, tomar vinho, de estudar estudar programação, de estudar Pyhon\"\n",
        "print(txt.split(','))"
      ],
      "metadata": {
        "colab": {
          "base_uri": "https://localhost:8080/"
        },
        "id": "8nOnhGI-i_3b",
        "outputId": "29427f87-61cb-4e1a-e121-b7297fc1fcda"
      },
      "execution_count": 34,
      "outputs": [
        {
          "output_type": "stream",
          "name": "stdout",
          "text": [
            "['Eu gosto de vijar', ' tomar vinho', ' de estudar estudar programação', ' de estudar Pyhon']\n"
          ]
        }
      ]
    },
    {
      "cell_type": "code",
      "source": [],
      "metadata": {
        "id": "qQPcug8UjNlj"
      },
      "execution_count": null,
      "outputs": []
    }
  ]
}