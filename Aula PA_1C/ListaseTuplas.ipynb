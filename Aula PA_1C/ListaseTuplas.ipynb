{
  "nbformat": 4,
  "nbformat_minor": 0,
  "metadata": {
    "colab": {
      "provenance": [],
      "authorship_tag": "ABX9TyNS3JTIYyJYw4f3CoARMuyi",
      "include_colab_link": true
    },
    "kernelspec": {
      "name": "python3",
      "display_name": "Python 3"
    },
    "language_info": {
      "name": "python"
    }
  },
  "cells": [
    {
      "cell_type": "markdown",
      "metadata": {
        "id": "view-in-github",
        "colab_type": "text"
      },
      "source": [
        "<a href=\"https://colab.research.google.com/github/BrunoSantosTI/PA_python/blob/main/Aula%20PA_1C/ListaseTuplas.ipynb\" target=\"_parent\"><img src=\"https://colab.research.google.com/assets/colab-badge.svg\" alt=\"Open In Colab\"/></a>"
      ]
    },
    {
      "cell_type": "code",
      "execution_count": null,
      "metadata": {
        "id": "broJMrIlPE0J"
      },
      "outputs": [],
      "source": [
        "numeros = [\"1\",\"2\",\"3\"]"
      ]
    },
    {
      "cell_type": "code",
      "source": [
        "print (numeros)"
      ],
      "metadata": {
        "colab": {
          "base_uri": "https://localhost:8080/"
        },
        "id": "AY9FiKPDRlf2",
        "outputId": "a96858e0-a9c9-40ef-bc66-e1e2d416712c"
      },
      "execution_count": null,
      "outputs": [
        {
          "output_type": "stream",
          "name": "stdout",
          "text": [
            "['1', '2', '3']\n"
          ]
        }
      ]
    },
    {
      "cell_type": "code",
      "source": [
        "numeros.append  (\"4\")"
      ],
      "metadata": {
        "id": "10vwIMltR5zT"
      },
      "execution_count": null,
      "outputs": []
    },
    {
      "cell_type": "code",
      "source": [
        "print (numeros)"
      ],
      "metadata": {
        "colab": {
          "base_uri": "https://localhost:8080/"
        },
        "id": "ygm2Z-Q_R_7w",
        "outputId": "ffbae267-067a-4373-c5c5-05edbb8ca767"
      },
      "execution_count": null,
      "outputs": [
        {
          "output_type": "stream",
          "name": "stdout",
          "text": [
            "['1', '2', '3']\n"
          ]
        }
      ]
    },
    {
      "cell_type": "code",
      "source": [
        "numeros.pop (0)"
      ],
      "metadata": {
        "colab": {
          "base_uri": "https://localhost:8080/",
          "height": 35
        },
        "id": "U3yM4AQyUCEi",
        "outputId": "e7c9cb69-f6f2-4612-dbac-c4977ff75147"
      },
      "execution_count": null,
      "outputs": [
        {
          "output_type": "execute_result",
          "data": {
            "text/plain": [
              "'1'"
            ],
            "application/vnd.google.colaboratory.intrinsic+json": {
              "type": "string"
            }
          },
          "metadata": {},
          "execution_count": 20
        }
      ]
    },
    {
      "cell_type": "code",
      "source": [
        "numeros.append ([\"7\",\"8\"])"
      ],
      "metadata": {
        "id": "B-q7oprhVBxB"
      },
      "execution_count": null,
      "outputs": []
    },
    {
      "cell_type": "code",
      "source": [
        "print (numeros)"
      ],
      "metadata": {
        "colab": {
          "base_uri": "https://localhost:8080/"
        },
        "id": "xrA4I6VEVOqW",
        "outputId": "89883cfd-bf2e-44ef-f47d-ad5c987d8ec9"
      },
      "execution_count": null,
      "outputs": [
        {
          "output_type": "stream",
          "name": "stdout",
          "text": [
            "['2', '3', ['7', '8']]\n"
          ]
        }
      ]
    },
    {
      "cell_type": "code",
      "source": [
        "cores = (\"branco\",\"preto\",\"azul\",\"rosa\",\"amarelo\",\"cinza\")"
      ],
      "metadata": {
        "id": "pxB-KWYSSopv"
      },
      "execution_count": null,
      "outputs": []
    },
    {
      "cell_type": "code",
      "source": [
        "print (cores[3])"
      ],
      "metadata": {
        "colab": {
          "base_uri": "https://localhost:8080/"
        },
        "id": "K70nfr0hTF3e",
        "outputId": "3e1b8277-7f80-432e-8e4f-0e81c7e8850e"
      },
      "execution_count": null,
      "outputs": [
        {
          "output_type": "stream",
          "name": "stdout",
          "text": [
            "rosa\n"
          ]
        }
      ]
    },
    {
      "cell_type": "code",
      "source": [
        "nomes = [\"joão\",\"pedro\",\"jorge\",\"bruno\",\"artur\"]"
      ],
      "metadata": {
        "id": "wW136IoWD6H0"
      },
      "execution_count": 16,
      "outputs": []
    },
    {
      "cell_type": "code",
      "source": [
        "print (nomes)"
      ],
      "metadata": {
        "colab": {
          "base_uri": "https://localhost:8080/"
        },
        "id": "PolQvzBsEwsu",
        "outputId": "5726f931-2ec3-4996-ab89-d0fa614a390f"
      },
      "execution_count": 17,
      "outputs": [
        {
          "output_type": "stream",
          "name": "stdout",
          "text": [
            "['joão', 'pedro', 'jorge', 'bruno', 'artur']\n"
          ]
        }
      ]
    },
    {
      "cell_type": "code",
      "source": [
        "nomes.pop(0)"
      ],
      "metadata": {
        "colab": {
          "base_uri": "https://localhost:8080/",
          "height": 36
        },
        "id": "0o7IEt5wE3A4",
        "outputId": "608751a7-ab16-4b1d-9dfb-d4cab13c6bc5"
      },
      "execution_count": 18,
      "outputs": [
        {
          "output_type": "execute_result",
          "data": {
            "text/plain": [
              "'joão'"
            ],
            "application/vnd.google.colaboratory.intrinsic+json": {
              "type": "string"
            }
          },
          "metadata": {},
          "execution_count": 18
        }
      ]
    },
    {
      "cell_type": "code",
      "source": [
        "print (nomes)"
      ],
      "metadata": {
        "colab": {
          "base_uri": "https://localhost:8080/"
        },
        "id": "a-ie8fe4FCkP",
        "outputId": "1da13ab8-0e98-431d-cb94-afbb2881434e"
      },
      "execution_count": 19,
      "outputs": [
        {
          "output_type": "stream",
          "name": "stdout",
          "text": [
            "['pedro', 'jorge', 'bruno', 'artur']\n"
          ]
        }
      ]
    },
    {
      "cell_type": "code",
      "source": [
        "nomes.append([\"leonardo\"])"
      ],
      "metadata": {
        "id": "hQb1t1B8Feza"
      },
      "execution_count": 20,
      "outputs": []
    },
    {
      "cell_type": "code",
      "source": [
        "print(nomes)"
      ],
      "metadata": {
        "colab": {
          "base_uri": "https://localhost:8080/"
        },
        "id": "WlMDLWBmFmO_",
        "outputId": "1527db88-63c1-41fb-ed84-64ba907f7040"
      },
      "execution_count": 21,
      "outputs": [
        {
          "output_type": "stream",
          "name": "stdout",
          "text": [
            "['pedro', 'jorge', 'bruno', 'artur', ['leonardo']]\n"
          ]
        }
      ]
    },
    {
      "cell_type": "code",
      "source": [
        "frutas = (\"uva\",\"manga\",\"banana\",\"licha\")"
      ],
      "metadata": {
        "id": "uUsa8MFjGPS2"
      },
      "execution_count": 9,
      "outputs": []
    },
    {
      "cell_type": "code",
      "source": [
        "print (frutas)"
      ],
      "metadata": {
        "colab": {
          "base_uri": "https://localhost:8080/"
        },
        "id": "arQEiPjeGiGN",
        "outputId": "42a8c6c0-9893-4053-f662-aa7053a77fd5"
      },
      "execution_count": 10,
      "outputs": [
        {
          "output_type": "stream",
          "name": "stdout",
          "text": [
            "('uva', 'manga', 'banana', 'licha')\n"
          ]
        }
      ]
    },
    {
      "cell_type": "code",
      "source": [
        "for nomes in 'pedro':\n",
        "  print(nomes)"
      ],
      "metadata": {
        "colab": {
          "base_uri": "https://localhost:8080/"
        },
        "id": "E-sqtjZ8HQOg",
        "outputId": "65428322-8497-4784-abd8-d1dabc8614c4"
      },
      "execution_count": 23,
      "outputs": [
        {
          "output_type": "stream",
          "name": "stdout",
          "text": [
            "p\n",
            "e\n",
            "d\n",
            "r\n",
            "o\n"
          ]
        }
      ]
    },
    {
      "cell_type": "code",
      "source": [
        "contador = 0\n",
        "while contador <5:\n",
        "  print(contador)\n",
        "  contador += 1"
      ],
      "metadata": {
        "colab": {
          "base_uri": "https://localhost:8080/"
        },
        "id": "OPeGD916Jvri",
        "outputId": "77c1478b-01e7-4925-baea-9b250c3b49ab"
      },
      "execution_count": 24,
      "outputs": [
        {
          "output_type": "stream",
          "name": "stdout",
          "text": [
            "0\n",
            "1\n",
            "2\n",
            "3\n",
            "4\n"
          ]
        }
      ]
    },
    {
      "cell_type": "code",
      "source": [
        "for i in range(0,5):\n",
        "  print(i)"
      ],
      "metadata": {
        "colab": {
          "base_uri": "https://localhost:8080/"
        },
        "id": "2KoEY6e0LASO",
        "outputId": "5fce5e9a-1559-4647-ecac-a66e4ab26bd0"
      },
      "execution_count": 27,
      "outputs": [
        {
          "output_type": "stream",
          "name": "stdout",
          "text": [
            "0\n",
            "1\n",
            "2\n",
            "3\n",
            "4\n"
          ]
        }
      ]
    },
    {
      "cell_type": "code",
      "source": [
        "soma = 0\n",
        "for i in range(1,11):\n",
        "  soma +=i\n",
        "  print('Soma:',soma)"
      ],
      "metadata": {
        "colab": {
          "base_uri": "https://localhost:8080/"
        },
        "id": "snyBfqOFL3x9",
        "outputId": "e05a6012-e9ba-4dd3-b7e2-de5967ae0e97"
      },
      "execution_count": 30,
      "outputs": [
        {
          "output_type": "stream",
          "name": "stdout",
          "text": [
            "Soma: 1\n",
            "Soma: 3\n",
            "Soma: 6\n",
            "Soma: 10\n",
            "Soma: 15\n",
            "Soma: 21\n",
            "Soma: 28\n",
            "Soma: 36\n",
            "Soma: 45\n",
            "Soma: 55\n"
          ]
        }
      ]
    },
    {
      "cell_type": "code",
      "source": [
        "n = int(input('Digite um número: '))\n",
        "\n",
        "for i in range (1,11):\n",
        "  print(f'{n}x{i}={n*i}')"
      ],
      "metadata": {
        "colab": {
          "base_uri": "https://localhost:8080/"
        },
        "id": "MncTD87IOA0b",
        "outputId": "d3a4d82e-7694-4601-c45b-b7ace35eb6b6"
      },
      "execution_count": 35,
      "outputs": [
        {
          "output_type": "stream",
          "name": "stdout",
          "text": [
            "Digite um número: 7\n",
            "7x1=7\n",
            "7x2=14\n",
            "7x3=21\n",
            "7x4=28\n",
            "7x5=35\n",
            "7x6=42\n",
            "7x7=49\n",
            "7x8=56\n",
            "7x9=63\n",
            "7x10=70\n"
          ]
        }
      ]
    },
    {
      "cell_type": "code",
      "source": [
        "for i in range(1,21):\n",
        "  if i%2 == 0:\n",
        "      print(i)"
      ],
      "metadata": {
        "colab": {
          "base_uri": "https://localhost:8080/"
        },
        "id": "QTBlNzwzP622",
        "outputId": "2f7024cf-5109-4bae-de3d-b6bbe3ff37bd"
      },
      "execution_count": 49,
      "outputs": [
        {
          "output_type": "stream",
          "name": "stdout",
          "text": [
            "2\n",
            "4\n",
            "6\n",
            "8\n",
            "10\n",
            "12\n",
            "14\n",
            "16\n",
            "18\n",
            "20\n"
          ]
        }
      ]
    },
    {
      "cell_type": "code",
      "source": [
        "for i in range(0,21, 2):\n",
        "   print(i)"
      ],
      "metadata": {
        "colab": {
          "base_uri": "https://localhost:8080/"
        },
        "id": "S4qdGnziSy2G",
        "outputId": "8a314eba-8c09-4b4a-afca-f99fc31d28f8"
      },
      "execution_count": 54,
      "outputs": [
        {
          "output_type": "stream",
          "name": "stdout",
          "text": [
            "0\n",
            "2\n",
            "4\n",
            "6\n",
            "8\n",
            "10\n",
            "12\n",
            "14\n",
            "16\n",
            "18\n",
            "20\n"
          ]
        }
      ]
    },
    {
      "cell_type": "code",
      "source": [
        "for i in range (10,-1, -1):\n",
        "  print(i)"
      ],
      "metadata": {
        "colab": {
          "base_uri": "https://localhost:8080/"
        },
        "id": "qSm5zK3lTa1e",
        "outputId": "c3fb8d23-6cd9-455c-e12b-e0fe802a14c0"
      },
      "execution_count": 56,
      "outputs": [
        {
          "output_type": "stream",
          "name": "stdout",
          "text": [
            "10\n",
            "9\n",
            "8\n",
            "7\n",
            "6\n",
            "5\n",
            "4\n",
            "3\n",
            "2\n",
            "1\n",
            "0\n"
          ]
        }
      ]
    },
    {
      "cell_type": "code",
      "source": [
        "soma = 0\n",
        "num = int(input('Digite um número (0 para sair): '))\n",
        "\n",
        "while num != 0:\n",
        "  soma += num\n",
        "  num = int(input('Digite outro número (0 para sair): '))\n",
        "print('Soma total: ', soma)"
      ],
      "metadata": {
        "colab": {
          "base_uri": "https://localhost:8080/"
        },
        "id": "rjhVHJ1fUKyA",
        "outputId": "4ea621e6-3a45-49bf-b064-381c9177f452"
      },
      "execution_count": 61,
      "outputs": [
        {
          "output_type": "stream",
          "name": "stdout",
          "text": [
            "Digite um número (0 para sair): 1\n",
            "Digite outro número (0 para sair): 2\n",
            "Digite outro número (0 para sair): 3\n",
            "Digite outro número (0 para sair): 4\n",
            "Digite outro número (0 para sair): 5\n",
            "Digite outro número (0 para sair): 6\n",
            "Digite outro número (0 para sair): 7\n",
            "Digite outro número (0 para sair): 8\n",
            "Digite outro número (0 para sair): 9\n",
            "Digite outro número (0 para sair): 0\n",
            "Soma total:  45\n"
          ]
        }
      ]
    },
    {
      "cell_type": "code",
      "source": [
        "senha = '12345'\n",
        "senhaD=\"\"\n",
        "tentativa = 0\n",
        "\n",
        "while True:\n",
        "  senhaD=(input('Digite a senha para entrar no site: '))\n",
        "  if senhaD !='12345':\n",
        "    tentativa +='12345'\n",
        "    senhaD = input('Senha incorreta, tente novamente: ')"
      ],
      "metadata": {
        "colab": {
          "base_uri": "https://localhost:8080/"
        },
        "id": "KUCSs85kXTy9",
        "outputId": "172d5be1-4bf9-4186-d1a9-cec6e1070cd4"
      },
      "execution_count": 69,
      "outputs": [
        {
          "output_type": "stream",
          "name": "stdout",
          "text": [
            "Digite a senha para entrar no site: 2\n",
            "Senha errada, tente novamente: 12345\n",
            "acesso permitido\n"
          ]
        }
      ]
    }
  ]
}