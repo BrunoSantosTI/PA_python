{
  "nbformat": 4,
  "nbformat_minor": 0,
  "metadata": {
    "colab": {
      "provenance": [],
      "authorship_tag": "ABX9TyPCTMUkLb6pUy3Gx1724e2/",
      "include_colab_link": true
    },
    "kernelspec": {
      "name": "python3",
      "display_name": "Python 3"
    },
    "language_info": {
      "name": "python"
    }
  },
  "cells": [
    {
      "cell_type": "markdown",
      "metadata": {
        "id": "view-in-github",
        "colab_type": "text"
      },
      "source": [
        "<a href=\"https://colab.research.google.com/github/BrunoSantosTI/PA_python/blob/main/Aula%20PA_1C/aula1pa.ipynb\" target=\"_parent\"><img src=\"https://colab.research.google.com/assets/colab-badge.svg\" alt=\"Open In Colab\"/></a>"
      ]
    },
    {
      "cell_type": "code",
      "execution_count": null,
      "metadata": {
        "id": "4c4DJyRgBmAP"
      },
      "outputs": [],
      "source": [
        "a= 'hello world'"
      ]
    },
    {
      "cell_type": "code",
      "source": [
        "a"
      ],
      "metadata": {
        "colab": {
          "base_uri": "https://localhost:8080/",
          "height": 35
        },
        "id": "u_P8xG0_DajX",
        "outputId": "ffb50338-3e33-4280-e382-9b51040f4ca7"
      },
      "execution_count": null,
      "outputs": [
        {
          "output_type": "execute_result",
          "data": {
            "text/plain": [
              "'hello world'"
            ],
            "application/vnd.google.colaboratory.intrinsic+json": {
              "type": "string"
            }
          },
          "metadata": {},
          "execution_count": 3
        }
      ]
    },
    {
      "cell_type": "markdown",
      "source": [],
      "metadata": {
        "id": "23D3POmwpdZd"
      }
    },
    {
      "cell_type": "code",
      "source": [
        "# calcular a área de um quadrado\n",
        "## Entrada\n",
        "\n",
        "## a = l.l\n",
        "## l = 5\n",
        "## a= l * l\n",
        "\n",
        "l =5\n",
        "a= l * l"
      ],
      "metadata": {
        "id": "X3VF_kthFK6r"
      },
      "execution_count": 6,
      "outputs": []
    },
    {
      "cell_type": "code",
      "source": [
        "print ('A área do quadrado é igual a', a, 'cm2')"
      ],
      "metadata": {
        "colab": {
          "base_uri": "https://localhost:8080/"
        },
        "id": "UyvADR8eH5jA",
        "outputId": "c34e079e-0eb9-43c2-9071-4248d6409e39"
      },
      "execution_count": 5,
      "outputs": [
        {
          "output_type": "stream",
          "name": "stdout",
          "text": [
            "A área do quadrado é igual a 25 cm2\n"
          ]
        }
      ]
    },
    {
      "cell_type": "code",
      "source": [],
      "metadata": {
        "id": "mpdrLVekIpf9"
      },
      "execution_count": null,
      "outputs": []
    }
  ]
}