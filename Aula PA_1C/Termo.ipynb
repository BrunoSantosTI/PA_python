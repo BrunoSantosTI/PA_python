{
  "nbformat": 4,
  "nbformat_minor": 0,
  "metadata": {
    "colab": {
      "provenance": [],
      "authorship_tag": "ABX9TyMYJ5t6/drRYCkxABNaA3y8",
      "include_colab_link": true
    },
    "kernelspec": {
      "name": "python3",
      "display_name": "Python 3"
    },
    "language_info": {
      "name": "python"
    }
  },
  "cells": [
    {
      "cell_type": "markdown",
      "metadata": {
        "id": "view-in-github",
        "colab_type": "text"
      },
      "source": [
        "<a href=\"https://colab.research.google.com/github/BrunoSantosTI/PA_python/blob/main/Aula%20PA_1C/Termo.ipynb\" target=\"_parent\"><img src=\"https://colab.research.google.com/assets/colab-badge.svg\" alt=\"Open In Colab\"/></a>"
      ]
    },
    {
      "cell_type": "code",
      "source": [
        "import random\n",
        "\n",
        "palavras = [\"carta\", \"tempo\", \"prato\", \"sorte\", \"festa\", \"livro\", \"porta\", \"nuvem\"]\n",
        "\n",
        "palavra = random.choice(palavras)\n",
        "\n",
        "tentativas = 0\n",
        "max_tentativas = 6\n",
        "\n",
        "print(\"=== TERMO ===\")\n",
        "print(\"Tente adivinhar a palavra de 5 letras!\")\n",
        "print(f\"Você tem {max_tentativas} tentativas.\")\n",
        "print(\"✅ = letra certa no lugar certo\")\n",
        "print(\"🟨 = letra existe mas em outro lugar\")\n",
        "print(\"❌ = letra não existe\\n\")\n",
        "\n",
        "while tentativas < max_tentativas:\n",
        "    chute = str(input(f\"Tentativa {tentativas+1}: \")).lower()\n",
        "\n",
        "    if len(chute) != 5:\n",
        "        print(\"A palavra deve ter 5 letras!\\n\")\n",
        "        continue\n",
        "\n",
        "    resultado = \"\"\n",
        "    for i in range(5):\n",
        "        if chute[i] == palavra[i]:\n",
        "            resultado += \"✅\"\n",
        "        elif chute[i] in palavra:\n",
        "            resultado += \"🟨\"\n",
        "        else:\n",
        "            resultado += \"❌\"\n",
        "\n",
        "    print(\"Resultado: \", resultado)\n",
        "\n",
        "    if chute == palavra:\n",
        "        print(\"\\nParabéns! Você acertou a palavra:\", palavra.upper(), f\"Com {tentativas+1} tentativas\")\n",
        "        break\n",
        "\n",
        "    tentativas += 1\n",
        "\n",
        "if chute != palavra:\n",
        "    print(\"\\nSuas tentativas acabaram. A palavra era:\", palavra.upper())"
      ],
      "metadata": {
        "colab": {
          "base_uri": "https://localhost:8080/"
        },
        "id": "EkYem_dTwYUa",
        "outputId": "99722232-2955-44c8-d96d-755d1ee6a13f"
      },
      "execution_count": 25,
      "outputs": [
        {
          "output_type": "stream",
          "name": "stdout",
          "text": [
            "=== TERMO ===\n",
            "Tente adivinhar a palavra de 5 letras!\n",
            "Você tem 6 tentativas.\n",
            "✅ = letra certa no lugar certo\n",
            "🟨 = letra existe mas em outro lugar\n",
            "❌ = letra não existe\n",
            "\n",
            "Tentativa 1: carta\n",
            "Resultado:  ❌❌🟨❌❌\n",
            "Tentativa 2: perco\n",
            "Resultado:  ❌❌🟨❌✅\n",
            "Tentativa 3: morro\n",
            "Resultado:  ❌🟨🟨✅✅\n",
            "Tentativa 4: litro\n",
            "Resultado:  ✅✅❌✅✅\n",
            "Tentativa 5: livro\n",
            "Resultado:  ✅✅✅✅✅\n",
            "\n",
            "Parabéns! Você acertou a palavra: LIVRO Com 5 tentativas\n"
          ]
        }
      ]
    }
  ]
}