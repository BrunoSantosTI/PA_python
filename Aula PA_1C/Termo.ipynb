{
  "nbformat": 4,
  "nbformat_minor": 0,
  "metadata": {
    "colab": {
      "provenance": [],
      "authorship_tag": "ABX9TyPXV1UmPcYygUC0YMn4Mza4",
      "include_colab_link": true
    },
    "kernelspec": {
      "name": "python3",
      "display_name": "Python 3"
    },
    "language_info": {
      "name": "python"
    }
  },
  "cells": [
    {
      "cell_type": "markdown",
      "metadata": {
        "id": "view-in-github",
        "colab_type": "text"
      },
      "source": [
        "<a href=\"https://colab.research.google.com/github/BrunoSantosTI/PA_python/blob/main/Aula%20PA_1C/Termo.ipynb\" target=\"_parent\"><img src=\"https://colab.research.google.com/assets/colab-badge.svg\" alt=\"Open In Colab\"/></a>"
      ]
    },
    {
      "cell_type": "code",
      "source": [
        "import random\n",
        "\n",
        "palavras = [\"carta\", \"tempo\", \"prato\", \"sorte\", \"festa\", \"livro\", \"porta\", \"nuvem\"]\n",
        "\n",
        "palavra = random.choice(palavras)\n",
        "\n",
        "tentativas = 0\n",
        "max_tentativas = 6\n",
        "\n",
        "print(\"=== TERMO ===\")\n",
        "print(\"Tente adivinhar a palavra de 5 letras!\")\n",
        "print(f\"Você tem {max_tentativas} tentativas.\")\n",
        "print(\"O = letra certa no lugar certo\")\n",
        "print(\"Q = letra existe mas em outro lugar\")\n",
        "print(\"X = letra não existe\\n\")\n",
        "\n",
        "while tentativas < max_tentativas:\n",
        "    chute = str(input(f\"Tentativa {tentativas+1}: \")).lower()\n",
        "\n",
        "    if len(chute) != 5:\n",
        "        print(\"A palavra deve ter 5 letras!\\n\")\n",
        "        continue\n",
        "\n",
        "    resultado = \"\"\n",
        "    for i in range(5):\n",
        "        if chute[i] == palavra[i]:\n",
        "            resultado += \"O\"\n",
        "        elif chute[i] in palavra:\n",
        "            resultado += \"Q\"\n",
        "        else:\n",
        "            resultado += \"X\"\n",
        "\n",
        "    print(\"Resultado: \", resultado)\n",
        "\n",
        "    if chute == palavra:\n",
        "        print(\"\\nParabéns! Você acertou a palavra:\", palavra.upper())\n",
        "        break\n",
        "\n",
        "    tentativas += 1\n",
        "\n",
        "if chute != palavra:\n",
        "    print(\"\\nSuas tentativas acabaram. A palavra era:\", palavra.upper())"
      ],
      "metadata": {
        "colab": {
          "base_uri": "https://localhost:8080/"
        },
        "id": "EkYem_dTwYUa",
        "outputId": "baaa48d1-cee2-4148-d1d1-40937d690c62"
      },
      "execution_count": 21,
      "outputs": [
        {
          "output_type": "stream",
          "name": "stdout",
          "text": [
            "=== TERMO ===\n",
            "Tente adivinhar a palavra de 5 letras!\n",
            "Você tem 6 tentativas.\n",
            "O = letra certa no lugar certo\n",
            "Q = letra existe mas em outro lugar\n",
            "X = letra não existe\n",
            "\n",
            "Tentativa 1: ponto\n",
            "Resultado:  OOXOQ\n",
            "Tentativa 2: poote\n",
            "Resultado:  OOQOX\n",
            "Tentativa 3: ponti\n",
            "Resultado:  OOXOX\n",
            "Tentativa 4: pouca\n",
            "Resultado:  OOXXO\n",
            "Tentativa 5: posta\n",
            "Resultado:  OOXOO\n",
            "Tentativa 6: porta\n",
            "Resultado:  OOOOO\n",
            "\n",
            "Parabéns! Você acertou a palavra: PORTA\n"
          ]
        }
      ]
    }
  ]
}