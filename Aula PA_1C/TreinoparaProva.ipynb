{
  "nbformat": 4,
  "nbformat_minor": 0,
  "metadata": {
    "colab": {
      "provenance": [],
      "authorship_tag": "ABX9TyPgUeaNPMg3aQeL7mS1xf2C",
      "include_colab_link": true
    },
    "kernelspec": {
      "name": "python3",
      "display_name": "Python 3"
    },
    "language_info": {
      "name": "python"
    }
  },
  "cells": [
    {
      "cell_type": "markdown",
      "metadata": {
        "id": "view-in-github",
        "colab_type": "text"
      },
      "source": [
        "<a href=\"https://colab.research.google.com/github/BrunoSantosTI/PA_python/blob/main/Aula%20PA_1C/TreinoparaProva.ipynb\" target=\"_parent\"><img src=\"https://colab.research.google.com/assets/colab-badge.svg\" alt=\"Open In Colab\"/></a>"
      ]
    },
    {
      "cell_type": "markdown",
      "source": [
        "1 - Números pares e ímpares em uma lista:\n",
        "* O usuário digita uma sequência de números por espaço.\n",
        "* O programa transforma em lista de inteiros.\n",
        "* Usando for, deve contar quantos são pares e quantos são ímpares."
      ],
      "metadata": {
        "id": "VkS8svWMtNe3"
      }
    },
    {
      "cell_type": "code",
      "source": [
        "num = input(\"Digite números separados por espaço: \")\n",
        "\n",
        "numeros = [int(x) for x in num.split()]\n",
        "\n",
        "pares = 0\n",
        "impares = 0\n",
        "\n",
        "for n in numeros:\n",
        "    if n % 2 == 0:\n",
        "        pares += 1\n",
        "    else:\n",
        "        impares += 1\n",
        "\n",
        "print(f\"Quantidade de números pares: {pares}\")\n",
        "print(f\"Quantidade de números ímpares: {impares}\")"
      ],
      "metadata": {
        "colab": {
          "base_uri": "https://localhost:8080/"
        },
        "id": "E6d5ftYht_ZX",
        "outputId": "4713daac-3cfc-4cf2-ded5-db70d06fbfa4"
      },
      "execution_count": null,
      "outputs": [
        {
          "output_type": "stream",
          "name": "stdout",
          "text": [
            "Digite números separados por espaço: 1 2 3 4 5 6 7 8 9 10\n",
            "Quantidade de números pares: 5\n",
            "Quantidade de números ímpares: 5\n"
          ]
        }
      ]
    },
    {
      "cell_type": "markdown",
      "source": [
        "2- Adivinhar um número secreto:\n",
        "* O programa escolhe um número secreto(1,20).\n",
        "* O usuário tenta adivinhar.\n",
        "* Enquanto não acertar o programa da dicas('maior', 'menor').\n",
        "* Quando acertar, o loop acaba.\n",
        "Dica para número aleatório:\n",
        "* Import random\n",
        "* secreto = ramdom.randit(1,20)\n",
        "* tentativa = none"
      ],
      "metadata": {
        "id": "U2sMTFTYvtdq"
      }
    },
    {
      "cell_type": "code",
      "source": [
        "import random\n",
        "\n",
        "secreto = random.randint(1, 20)\n",
        "\n",
        "print(\"Tente adivinhar o número secreto entre 1 e 20!\")\n",
        "\n",
        "tentativa = 0\n",
        "\n",
        "\n",
        "while user != secreto:\n",
        "    user = int(input(\"Digite seu palpite: \"))\n",
        "\n",
        "    if user < secreto:\n",
        "        print(\"O número secreto é MAIOR!\")\n",
        "        tentativa += 1\n",
        "    elif user > secreto:\n",
        "        print(\"O número secreto é MENOR!\")\n",
        "        tentativa += 1\n",
        "    else:\n",
        "        print(\"Você acertou o número secreto \")\n",
        "        print(\"A quantidade de tentativas é: \", tentativa+1)"
      ],
      "metadata": {
        "colab": {
          "base_uri": "https://localhost:8080/"
        },
        "id": "nEw9evKpvr3z",
        "outputId": "b35902d9-2d8c-40a7-97ee-449d762b6272"
      },
      "execution_count": null,
      "outputs": [
        {
          "output_type": "stream",
          "name": "stdout",
          "text": [
            "Tente adivinhar o número secreto entre 1 e 20!\n",
            "Digite seu palpite: 2\n",
            "O número secreto é MAIOR!\n",
            "Digite seu palpite: 10\n",
            "O número secreto é MAIOR!\n",
            "Digite seu palpite: 19\n",
            "O número secreto é MENOR!\n",
            "Digite seu palpite: 15\n",
            "Você acertou o número secreto \n",
            "A quantidade de tentativas é:  4\n"
          ]
        }
      ]
    },
    {
      "cell_type": "markdown",
      "source": [
        "3- Contar vogais em várias palavras;\n",
        "* O usuário digita uma lista de palavras (separadas por espaço);\n",
        "* O programa deve percorrer cada palavra usando um FOR;\n",
        "* Em cada palavra contar quantas vogais existem;\n",
        "* Mostrar no final o total de palavras em cada palavra."
      ],
      "metadata": {
        "id": "OMHeqrw71pZV"
      }
    },
    {
      "cell_type": "code",
      "source": [
        "entrada = str(input(\"Digite várias palavras separadas por espaço: \").lower())\n",
        "palavras = entrada.split()\n",
        "vogais = \"aeiouAEIOU\"\n",
        "\n",
        "for palavra in palavras:\n",
        "    contador = 0\n",
        "    for letra in palavra:\n",
        "        if letra in vogais:\n",
        "            contador += 1\n",
        "    print(f\"A palavra '{palavra}' tem {contador} vogais.\")"
      ],
      "metadata": {
        "colab": {
          "base_uri": "https://localhost:8080/"
        },
        "id": "KUMnRBPE2bqx",
        "outputId": "0ad98c0d-2fca-4708-acca-c78ce63899f6"
      },
      "execution_count": 13,
      "outputs": [
        {
          "output_type": "stream",
          "name": "stdout",
          "text": [
            "Digite várias palavras separadas por espaço: YADssYRSYydySYRSdutDRYd RYDUEY5eWSUT stSTsutsS\n",
            "A palavra 'yadssyrsyydysyrsdutdryd' tem 2 vogais.\n",
            "A palavra 'ryduey5ewsut' tem 4 vogais.\n",
            "A palavra 'ststsutss' tem 1 vogais.\n"
          ]
        }
      ]
    }
  ]
}