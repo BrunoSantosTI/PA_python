{
  "nbformat": 4,
  "nbformat_minor": 0,
  "metadata": {
    "colab": {
      "provenance": [],
      "authorship_tag": "ABX9TyNCHKR1FJMSsL3Vab+5WWTA",
      "include_colab_link": true
    },
    "kernelspec": {
      "name": "python3",
      "display_name": "Python 3"
    },
    "language_info": {
      "name": "python"
    }
  },
  "cells": [
    {
      "cell_type": "markdown",
      "metadata": {
        "id": "view-in-github",
        "colab_type": "text"
      },
      "source": [
        "<a href=\"https://colab.research.google.com/github/BrunoSantosTI/PA_python/blob/main/Aula%20PA_1C/IFeELSE.ipynb\" target=\"_parent\"><img src=\"https://colab.research.google.com/assets/colab-badge.svg\" alt=\"Open In Colab\"/></a>"
      ]
    },
    {
      "cell_type": "markdown",
      "source": [
        "**1)** ano bissexto"
      ],
      "metadata": {
        "id": "kDf5u0qp349u"
      }
    },
    {
      "cell_type": "code",
      "execution_count": 5,
      "metadata": {
        "colab": {
          "base_uri": "https://localhost:8080/"
        },
        "id": "e3beOPDL2MNO",
        "outputId": "7e40c2b0-7c52-4a56-eae9-71af32bc4b1b"
      },
      "outputs": [
        {
          "output_type": "stream",
          "name": "stdout",
          "text": [
            "Digite o ano: 3424523477848732472434543524542385483564244\n",
            "O ano é bissexto\n"
          ]
        }
      ],
      "source": [
        "#Calcular se oano é bissexto\n",
        "#entrada\n",
        "ano = int(input('Digite o ano: '))\n",
        "\n",
        "#processamento\n",
        "\n",
        "if ano % 4 == 0 and ano % 100 != 0 or ano % 400 ==0:\n",
        "  print('O ano é bissexto')\n",
        "\n",
        "else:\n",
        "  print('O ano não é bissexto')"
      ]
    },
    {
      "cell_type": "markdown",
      "source": [
        "**2)** faixa etaria"
      ],
      "metadata": {
        "id": "hhuaojVm6kCc"
      }
    },
    {
      "cell_type": "code",
      "source": [
        "#Calcular a faixa etaria\n",
        "##entrada\n",
        "\n",
        "idade=int(input('Digite sua idade: '))\n",
        "\n",
        "##processamento\n",
        "\n",
        "if (idade>=0 and idade<=12):\n",
        "  print('Você é uma criança')\n",
        "elif idade>12 and idade<=17:\n",
        "  print('Você é um adolescente')\n",
        "elif (idade>17 and idade<=60) :\n",
        "  print('Você é um adulto')\n",
        "elif idade<0:\n",
        "  print('idade inválida')\n",
        "else:\n",
        "  print('Você é um idoso')\n"
      ],
      "metadata": {
        "colab": {
          "base_uri": "https://localhost:8080/"
        },
        "id": "WN0t07E26rFz",
        "outputId": "2e235c4a-6e07-4148-93b6-7ab1f296f3b2"
      },
      "execution_count": 13,
      "outputs": [
        {
          "output_type": "stream",
          "name": "stdout",
          "text": [
            "Digite sua idade: -24\n",
            "idade inválida\n"
          ]
        }
      ]
    },
    {
      "cell_type": "markdown",
      "source": [
        "**3)** Número dentro do intervalo"
      ],
      "metadata": {
        "id": "yc6DbkGR9YFs"
      }
    },
    {
      "cell_type": "code",
      "source": [
        "#Número dentro do intervalo\n",
        "##entrada\n",
        "num=float(input('Digite o número para saber se está entre os números 22 e 78787: '))\n",
        "\n",
        "##processamento\n",
        "if num>22 and num<78787:\n",
        "  print('O seu número está entre 22 e 78787')\n",
        "\n",
        "else:\n",
        "  print('O seu número nãoestá entre 22 e 78787')"
      ],
      "metadata": {
        "colab": {
          "base_uri": "https://localhost:8080/"
        },
        "id": "EXrQRyBz9lNp",
        "outputId": "d967097e-9ef6-48aa-e420-3e57fc95a80f"
      },
      "execution_count": 12,
      "outputs": [
        {
          "output_type": "stream",
          "name": "stdout",
          "text": [
            "Digite o número para saber se está entre os números 22 e 78787: 5246\n",
            "O seu número está entre 22 e 78787\n"
          ]
        }
      ]
    },
    {
      "cell_type": "markdown",
      "source": [
        "**Atividades 25/04**"
      ],
      "metadata": {
        "id": "tOpCv-HGBAH-"
      }
    },
    {
      "cell_type": "code",
      "source": [
        "#Ímpar e Par\n",
        "##entrada\n",
        "num=float(input('Digite o número: '))\n",
        "\n",
        "##processamento\n",
        "if num%2==0:\n",
        "  print('O número é par')\n",
        "\n",
        "else:\n",
        "  print('Seu número é ímpar')"
      ],
      "metadata": {
        "colab": {
          "base_uri": "https://localhost:8080/"
        },
        "id": "ekgYwSToA-T4",
        "outputId": "28a969d8-937e-4d77-a191-bb6ee0fc4bc0"
      },
      "execution_count": 15,
      "outputs": [
        {
          "output_type": "stream",
          "name": "stdout",
          "text": [
            "Digite o número: 3\n",
            "Seu número é ímpar\n"
          ]
        }
      ]
    },
    {
      "cell_type": "code",
      "source": [
        "# Qual o tipo de triângulo\n",
        "## entrada\n",
        "l1=float(input('Digite o valor do lado 1: '))\n",
        "l2=float(input('Digite o valor do lado 2: '))\n",
        "l3=float(input('Digite o valor do lado 3: '))\n",
        "\n",
        "##processamento\n",
        "if l1+l2>l3 and l1+l3>l2 and l2+l3>l1:\n",
        "  print('Os três valores formam um triângulo')\n",
        "\n",
        "else:\n",
        "  print('Os valores não formam um triângulo')\n",
        "\n",
        "if (l1 == l2) and (l1 == l3) and (l2 == l3):\n",
        "  print('Seu triângulo é equilátero')\n",
        "\n",
        "elif (l1!=l2) and (l1!=l3) and (l2!=l3):\n",
        "  print('Seu triângulomé escaleno')\n",
        "\n",
        "elif (l1 == l2 !=l3) or (l1 == l3 !=l2) or (l2 == l3 !=l1):\n",
        "  print('Seu triângulo é isóceles')\n",
        "\n",
        "else:\n",
        "  print('Os valores não formam um triângulo')\n",
        "\n"
      ],
      "metadata": {
        "colab": {
          "base_uri": "https://localhost:8080/"
        },
        "id": "2nGJY48vCp7Q",
        "outputId": "fa3f16d8-d692-4a74-cb47-f5d6c6a5da06"
      },
      "execution_count": 18,
      "outputs": [
        {
          "output_type": "stream",
          "name": "stdout",
          "text": [
            "Digite o valor do lado 1: 3\n",
            "Digite o valor do lado 2: 3\n",
            "Digite o valor do lado 3: 3\n",
            "Os três valores formam um triângulo\n",
            "Seu triângulo é equilátero\n"
          ]
        }
      ]
    },
    {
      "cell_type": "code",
      "source": [
        "#IMC\n",
        "##entrada\n",
        "peso=float(input('digite seu peso: '))\n",
        "altura=float(input('digite sua altura: '))\n",
        "\n",
        "##processamento\n",
        "IMC=(peso/altura**2)\n",
        "\n",
        "if (IMC<18.5):\n",
        "  print('Você está abaixo do peso')\n",
        "\n",
        "elif (IMC>=18.5 and IMC<24.9):\n",
        "  print('Você está no peso normal')\n",
        "\n",
        "elif (IMC>=25 and IMC<29.9):\n",
        "  print('Você está acima do peso')\n",
        "\n",
        "elif (IMC>=30 and IMC<34.9):\n",
        "  print('Você está com obesidade nível 1')\n",
        "\n",
        "elif (IMC>=35 and IMC<39.9):\n",
        "  print('Você está com obesidade nível 2')\n",
        "\n",
        "else:\n",
        "  print('Você está com obesidade nível 3')"
      ],
      "metadata": {
        "colab": {
          "base_uri": "https://localhost:8080/"
        },
        "id": "IYJ7xE-yFwVa",
        "outputId": "45c9eaf1-29b3-4d80-9f9e-e34edd9f1efe"
      },
      "execution_count": 24,
      "outputs": [
        {
          "output_type": "stream",
          "name": "stdout",
          "text": [
            "digite seu peso: 63\n",
            "digite sua altura: 1.80\n",
            "Você está no peso normal\n"
          ]
        }
      ]
    },
    {
      "cell_type": "code",
      "source": [
        "#Competição de vôlei\n",
        "##entrada\n",
        "idade=float(input('Digite a sua idade: '))\n",
        "altura=float(input('Digite sua altura: '))\n",
        "\n",
        "##processamento\n",
        "if idade>=18 and altura>=1.75:\n",
        "  print('Você pode competir')\n",
        "else:\n",
        "  print('Você não pode competir')"
      ],
      "metadata": {
        "colab": {
          "base_uri": "https://localhost:8080/"
        },
        "id": "PO-lKJtYKbxL",
        "outputId": "3db1ebbf-8f80-4f14-b1c7-1b7564d5c1cf"
      },
      "execution_count": 26,
      "outputs": [
        {
          "output_type": "stream",
          "name": "stdout",
          "text": [
            "Digite a sua idade: 14\n",
            "Digite sua altura: 1.90\n",
            "Você não pode competir\n"
          ]
        }
      ]
    },
    {
      "cell_type": "code",
      "source": [
        "#Simulador de empréstimo\n",
        "##Entrada\n",
        "valor_empréstimo = float(input('Digite o valor do empréstimo:  '))\n",
        "salario_mensal = float(input('Digite o salário:  '))\n",
        "num_parcelas = int(input('Digite o número de parcelas:  '))\n",
        "valor_parcela = valor_empréstimo / num_parcelas\n",
        "\n",
        "##processamento\n",
        "if (valor_parcela/num_parcelas >= salario_mensal * 0.3):\n",
        "  print('Empréstimo aprovado')\n",
        "else:\n",
        "  print('Empréstimo negado')"
      ],
      "metadata": {
        "colab": {
          "base_uri": "https://localhost:8080/"
        },
        "id": "asuOz_UMLhKy",
        "outputId": "feed342f-0103-492b-8d44-581516f2a526"
      },
      "execution_count": 27,
      "outputs": [
        {
          "output_type": "stream",
          "name": "stdout",
          "text": [
            "Digite o valor do empréstimo:  6435434\n",
            "Digite o salário:  1400\n",
            "Digite o número de parcelas:  756\n",
            "Empréstimo negado\n"
          ]
        }
      ]
    }
  ]
}