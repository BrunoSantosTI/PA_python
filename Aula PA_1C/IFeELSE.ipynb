{
  "nbformat": 4,
  "nbformat_minor": 0,
  "metadata": {
    "colab": {
      "provenance": [],
      "authorship_tag": "ABX9TyPzqhxWOj0FGpwgrtDjTTef",
      "include_colab_link": true
    },
    "kernelspec": {
      "name": "python3",
      "display_name": "Python 3"
    },
    "language_info": {
      "name": "python"
    }
  },
  "cells": [
    {
      "cell_type": "markdown",
      "metadata": {
        "id": "view-in-github",
        "colab_type": "text"
      },
      "source": [
        "<a href=\"https://colab.research.google.com/github/BrunoSantosTI/PA_python/blob/main/Aula%20PA_1C/IFeELSE.ipynb\" target=\"_parent\"><img src=\"https://colab.research.google.com/assets/colab-badge.svg\" alt=\"Open In Colab\"/></a>"
      ]
    },
    {
      "cell_type": "markdown",
      "source": [
        "**1)** ano bissexto"
      ],
      "metadata": {
        "id": "kDf5u0qp349u"
      }
    },
    {
      "cell_type": "code",
      "execution_count": null,
      "metadata": {
        "colab": {
          "base_uri": "https://localhost:8080/"
        },
        "id": "e3beOPDL2MNO",
        "outputId": "7e40c2b0-7c52-4a56-eae9-71af32bc4b1b"
      },
      "outputs": [
        {
          "output_type": "stream",
          "name": "stdout",
          "text": [
            "Digite o ano: 3424523477848732472434543524542385483564244\n",
            "O ano é bissexto\n"
          ]
        }
      ],
      "source": [
        "#Calcular se oano é bissexto\n",
        "#entrada\n",
        "ano = int(input('Digite o ano: '))\n",
        "\n",
        "#processamento\n",
        "\n",
        "if ano % 4 == 0 and ano % 100 != 0 or ano % 400 ==0:\n",
        "  print('O ano é bissexto')\n",
        "\n",
        "else:\n",
        "  print('O ano não é bissexto')"
      ]
    },
    {
      "cell_type": "markdown",
      "source": [
        "**2)** faixa etaria"
      ],
      "metadata": {
        "id": "hhuaojVm6kCc"
      }
    },
    {
      "cell_type": "code",
      "source": [
        "#Calcular a faixa etaria\n",
        "##entrada\n",
        "\n",
        "idade=int(input('Digite sua idade: '))\n",
        "\n",
        "##processamento\n",
        "\n",
        "if (idade>=0 and idade<=12):\n",
        "  print('Você é uma criança')\n",
        "elif idade>12 and idade<=17:\n",
        "  print('Você é um adolescente')\n",
        "elif (idade>17 and idade<=60) :\n",
        "  print('Você é um adulto')\n",
        "elif idade<0:\n",
        "  print('idade inválida')\n",
        "else:\n",
        "  print('Você é um idoso')\n"
      ],
      "metadata": {
        "colab": {
          "base_uri": "https://localhost:8080/"
        },
        "id": "WN0t07E26rFz",
        "outputId": "2e235c4a-6e07-4148-93b6-7ab1f296f3b2"
      },
      "execution_count": null,
      "outputs": [
        {
          "output_type": "stream",
          "name": "stdout",
          "text": [
            "Digite sua idade: -24\n",
            "idade inválida\n"
          ]
        }
      ]
    },
    {
      "cell_type": "markdown",
      "source": [
        "**3)** Número dentro do intervalo"
      ],
      "metadata": {
        "id": "yc6DbkGR9YFs"
      }
    },
    {
      "cell_type": "code",
      "source": [
        "#Número dentro do intervalo\n",
        "##entrada\n",
        "num=float(input('Digite o número para saber se está entre os números 22 e 78787: '))\n",
        "\n",
        "##processamento\n",
        "if num>22 and num<78787:\n",
        "  print('O seu número está entre 22 e 78787')\n",
        "\n",
        "else:\n",
        "  print('O seu número nãoestá entre 22 e 78787')"
      ],
      "metadata": {
        "colab": {
          "base_uri": "https://localhost:8080/"
        },
        "id": "EXrQRyBz9lNp",
        "outputId": "d967097e-9ef6-48aa-e420-3e57fc95a80f"
      },
      "execution_count": null,
      "outputs": [
        {
          "output_type": "stream",
          "name": "stdout",
          "text": [
            "Digite o número para saber se está entre os números 22 e 78787: 5246\n",
            "O seu número está entre 22 e 78787\n"
          ]
        }
      ]
    },
    {
      "cell_type": "markdown",
      "source": [
        "**Atividades 25/04**"
      ],
      "metadata": {
        "id": "tOpCv-HGBAH-"
      }
    },
    {
      "cell_type": "code",
      "source": [
        "#Ímpar e Par\n",
        "##entrada\n",
        "num=float(input('Digite o número: '))\n",
        "\n",
        "##processamento\n",
        "if num%2==0:\n",
        "  print('O número é par')\n",
        "\n",
        "else:\n",
        "  print('Seu número é ímpar')"
      ],
      "metadata": {
        "colab": {
          "base_uri": "https://localhost:8080/"
        },
        "id": "ekgYwSToA-T4",
        "outputId": "28a969d8-937e-4d77-a191-bb6ee0fc4bc0"
      },
      "execution_count": null,
      "outputs": [
        {
          "output_type": "stream",
          "name": "stdout",
          "text": [
            "Digite o número: 3\n",
            "Seu número é ímpar\n"
          ]
        }
      ]
    },
    {
      "cell_type": "code",
      "source": [
        "# Qual o tipo de triângulo\n",
        "## entrada\n",
        "l1=float(input('Digite o valor do lado 1: '))\n",
        "l2=float(input('Digite o valor do lado 2: '))\n",
        "l3=float(input('Digite o valor do lado 3: '))\n",
        "\n",
        "##processamento\n",
        "if l1+l2>l3 and l1+l3>l2 and l2+l3>l1:\n",
        "  print('Os três valores formam um triângulo')\n",
        "\n",
        "else:\n",
        "  print('Os valores não formam um triângulo')\n",
        "\n",
        "if (l1 == l2) and (l1 == l3) and (l2 == l3):\n",
        "  print('Seu triângulo é equilátero')\n",
        "\n",
        "elif (l1!=l2) and (l1!=l3) and (l2!=l3):\n",
        "  print('Seu triângulomé escaleno')\n",
        "\n",
        "elif (l1 == l2 !=l3) or (l1 == l3 !=l2) or (l2 == l3 !=l1):\n",
        "  print('Seu triângulo é isóceles')\n",
        "\n",
        "else:\n",
        "  print('Os valores não formam um triângulo')\n",
        "\n"
      ],
      "metadata": {
        "colab": {
          "base_uri": "https://localhost:8080/"
        },
        "id": "2nGJY48vCp7Q",
        "outputId": "fa3f16d8-d692-4a74-cb47-f5d6c6a5da06"
      },
      "execution_count": null,
      "outputs": [
        {
          "output_type": "stream",
          "name": "stdout",
          "text": [
            "Digite o valor do lado 1: 3\n",
            "Digite o valor do lado 2: 3\n",
            "Digite o valor do lado 3: 3\n",
            "Os três valores formam um triângulo\n",
            "Seu triângulo é equilátero\n"
          ]
        }
      ]
    },
    {
      "cell_type": "code",
      "source": [
        "#IMC\n",
        "##entrada\n",
        "peso=float(input('digite seu peso: '))\n",
        "altura=float(input('digite sua altura: '))\n",
        "\n",
        "##processamento\n",
        "IMC=(peso/altura**2)\n",
        "\n",
        "if (IMC<18.5):\n",
        "  print('Você está abaixo do peso')\n",
        "\n",
        "elif (IMC>=18.5 and IMC<24.9):\n",
        "  print('Você está no peso normal')\n",
        "\n",
        "elif (IMC>=25 and IMC<29.9):\n",
        "  print('Você está acima do peso')\n",
        "\n",
        "elif (IMC>=30 and IMC<34.9):\n",
        "  print('Você está com obesidade nível 1')\n",
        "\n",
        "elif (IMC>=35 and IMC<39.9):\n",
        "  print('Você está com obesidade nível 2')\n",
        "\n",
        "else:\n",
        "  print('Você está com obesidade nível 3')"
      ],
      "metadata": {
        "colab": {
          "base_uri": "https://localhost:8080/"
        },
        "id": "IYJ7xE-yFwVa",
        "outputId": "45c9eaf1-29b3-4d80-9f9e-e34edd9f1efe"
      },
      "execution_count": null,
      "outputs": [
        {
          "output_type": "stream",
          "name": "stdout",
          "text": [
            "digite seu peso: 63\n",
            "digite sua altura: 1.80\n",
            "Você está no peso normal\n"
          ]
        }
      ]
    },
    {
      "cell_type": "code",
      "source": [
        "#Competição de vôlei\n",
        "##entrada\n",
        "idade=float(input('Digite a sua idade: '))\n",
        "altura=float(input('Digite sua altura: '))\n",
        "\n",
        "##processamento\n",
        "if idade>=18 and altura>=1.75:\n",
        "  print('Você pode competir')\n",
        "else:\n",
        "  print('Você não pode competir')"
      ],
      "metadata": {
        "colab": {
          "base_uri": "https://localhost:8080/"
        },
        "id": "PO-lKJtYKbxL",
        "outputId": "3db1ebbf-8f80-4f14-b1c7-1b7564d5c1cf"
      },
      "execution_count": null,
      "outputs": [
        {
          "output_type": "stream",
          "name": "stdout",
          "text": [
            "Digite a sua idade: 14\n",
            "Digite sua altura: 1.90\n",
            "Você não pode competir\n"
          ]
        }
      ]
    },
    {
      "cell_type": "code",
      "source": [
        "#Simulador de empréstimo\n",
        "##Entrada\n",
        "valor_empréstimo = float(input('Digite o valor do empréstimo:  '))\n",
        "salario_mensal = float(input('Digite o salário:  '))\n",
        "num_parcelas = int(input('Digite o número de parcelas:  '))\n",
        "valor_parcela = valor_empréstimo / num_parcelas\n",
        "\n",
        "##processamento\n",
        "if (valor_parcela/num_parcelas >= salario_mensal * 0.3):\n",
        "  print('Empréstimo aprovado')\n",
        "else:\n",
        "  print('Empréstimo negado')"
      ],
      "metadata": {
        "colab": {
          "base_uri": "https://localhost:8080/"
        },
        "id": "asuOz_UMLhKy",
        "outputId": "feed342f-0103-492b-8d44-581516f2a526"
      },
      "execution_count": null,
      "outputs": [
        {
          "output_type": "stream",
          "name": "stdout",
          "text": [
            "Digite o valor do empréstimo:  6435434\n",
            "Digite o salário:  1400\n",
            "Digite o número de parcelas:  756\n",
            "Empréstimo negado\n"
          ]
        }
      ]
    },
    {
      "cell_type": "markdown",
      "source": [
        "Exercícios do dia 19/05 IF e ELSE"
      ],
      "metadata": {
        "id": "niUUJMvG2Afi"
      }
    },
    {
      "cell_type": "code",
      "source": [
        "# Caixa Eletrônico\n",
        "\n",
        "##entrada\n",
        "usuario=(input('Digite o seu nome de usuário de adimin: '))\n",
        "senha=(input('Digite a sua senha de admin: '))\n",
        "\n",
        "\n",
        "##processamento\n",
        "if (usuario=='BrunoSantosTI' and senha=='equiperosa1a'):\n",
        "  print('acesso permitido, bem-vindo administrador')\n",
        "\n",
        "else:\n",
        "  print('acesso negado, tente novamente')\n",
        "\n"
      ],
      "metadata": {
        "colab": {
          "base_uri": "https://localhost:8080/"
        },
        "id": "E_cnBrYY2PZO",
        "outputId": "261ad040-0475-4630-8eb1-2d164d9bf6b7"
      },
      "execution_count": 9,
      "outputs": [
        {
          "output_type": "stream",
          "name": "stdout",
          "text": [
            "Digite o seu nome de usuário de adimin: BrunoSantosTI\n",
            "Digite a sua senha de admin: equiperosa1a\n",
            "acesso permitido, bem-vindo administrador\n"
          ]
        }
      ]
    },
    {
      "cell_type": "code",
      "source": [
        "#simulador de saque e depósito com limite\n",
        "##entrada\n",
        "\n",
        "saldo = -50.00\n",
        "limite = 3000.00\n",
        "usuario=(input('Digite o seu nome de usuário de adimin: '))\n",
        "senha=(input('Digite a sua senha de admin: '))\n",
        "escolha=float(input('Digite 1 se quer verificar o seu saldo, digite 2 se quer sacar algum dinheiro, digite 3 se deseja depositaralgum dinheiro ou digite 4 se deseja cancelar a operação'))\n",
        "\n",
        "##processamento\n",
        "if (usuario=='BrunoSantosTI' and senha=='equiperosa1a'):\n",
        "  print('acesso permitido, bem-vindo administrador')\n",
        "  login=1\n",
        "\n",
        "  if login==1:\n",
        "\n",
        "\n",
        "    if (escolha==1):\n",
        "      print('O seu saldo é de -50.00')\n",
        "\n",
        "    elif (escolha==2):\n",
        "      saque=float(input('Digite o valor que deseja sacar: '))\n",
        "\n",
        "      if (saldo>=saque and saque<=limite):\n",
        "        print('O saque foi aceito')\n",
        "        solicitacao=3\n",
        "\n",
        "        if solicitacao==3:\n",
        "\n",
        "          if saldo>=0:\n",
        "            print('O seu saldo é positivo')\n",
        "            print('O seu saldo é igual a',saldo-saque)\n",
        "\n",
        "          else:\n",
        "            print('O seu saldo é negativo')\n",
        "            print('O seu saldo é igual a',saldo-saque)\n",
        "\n",
        "        else:\n",
        "          solicitacao=4\n",
        "\n",
        "      else:\n",
        "        print('O seu saque foi negado')\n",
        "\n",
        "\n",
        "else:\n",
        "  print('acesso negado, tente novamente')\n",
        "  login=2\n",
        "\n"
      ],
      "metadata": {
        "colab": {
          "base_uri": "https://localhost:8080/"
        },
        "id": "oOClg0Xr7LBz",
        "outputId": "415a48ce-0f44-4d74-82b6-9d5c5a35445c"
      },
      "execution_count": 14,
      "outputs": [
        {
          "output_type": "stream",
          "name": "stdout",
          "text": [
            "Digite 1 se quer verificar o seu saldo, digite 2 se quer sacar algum dinheiro, digite 3 se deseja depositaralgum dinheiro ou digite 4 se deseja cancelar a operação2\n",
            "Digite o seu nome de usuário de adimin: BrunoSantosTI\n",
            "Digite a sua senha de admin: equiperosa1a\n",
            "acesso permitido, bem-vindo administrador\n",
            "Digite o valor que deseja sacar: 100\n",
            "O seu saque foi negado\n"
          ]
        }
      ]
    },
    {
      "cell_type": "code",
      "source": [
        "# Dados de login\n",
        "usuario_correto = \"cliente\"\n",
        "senha_correta = \"1234\"\n",
        "\n",
        "# Saldo e limite inicial\n",
        "saldo = -50.0\n",
        "limite = 3000.0\n",
        "\n",
        "# Login\n",
        "usuario = input(\"Digite seu nome de usuário: \")\n",
        "senha = input(\"Digite sua senha: \")\n",
        "\n",
        "if usuario == usuario_correto and senha == senha_correta:\n",
        "    print(\"\\nLogin bem-sucedido!\")\n",
        "\n",
        "    print(\"\\nEscolha uma operação:\")\n",
        "    print(\"1 - Sacar\")\n",
        "    print(\"2 - Depositar\")\n",
        "    print(\"3 - Ver saldo\")\n",
        "\n",
        "    escolha = input(\"Digite o número da operação desejada: \")\n",
        "\n",
        "    if escolha == \"1\":\n",
        "        saque = float(input(\"Digite o valor que deseja sacar: \"))\n",
        "\n",
        "        if saque <= saldo + limite:\n",
        "            saldo -= saque\n",
        "            print(\"\\nSaque autorizado!\")\n",
        "            print(\"Novo saldo: R$ {:.2f}\".format(saldo))\n",
        "\n",
        "            if saldo < 0:\n",
        "                print(\"Você está usando R$ {:.2f} do limite do banco.\".format(abs(saldo)))\n",
        "                print(\"Limite restante: R$ {:.2f}\".format(limite - abs(saldo)))\n",
        "            else:\n",
        "                print(\"Limite restante: R$ {:.2f}\".format(limite))\n",
        "        else:\n",
        "            print(\"\\nSaque negado. Valor excede o saldo + limite disponível.\")\n",
        "\n",
        "    elif escolha == \"2\":\n",
        "        deposito = float(input(\"Digite o valor que deseja depositar: \"))\n",
        "        saldo += deposito\n",
        "        print(\"\\nDepósito realizado com sucesso.\")\n",
        "        print(\"Novo saldo: R$ {:.2f}\".format(saldo))\n",
        "\n",
        "        if saldo < 0:\n",
        "            print(\"Você ainda está usando R$ {:.2f} do limite.\".format(abs(saldo)))\n",
        "            print(\"Limite restante: R$ {:.2f}\".format(limite - abs(saldo)))\n",
        "        else:\n",
        "            print(\"Limite totalmente disponível: R$ {:.2f}\".format(limite))\n",
        "\n",
        "    elif escolha == \"3\":\n",
        "        print(\"\\nSaldo atual: R$ {:.2f}\".format(saldo))\n",
        "        if saldo < 0:\n",
        "            print(\"Você está usando R$ {:.2f} do limite do banco.\".format(abs(saldo)))\n",
        "            print(\"Limite restante: R$ {:.2f}\".format(limite - abs(saldo)))\n",
        "        else:\n",
        "            print(\"Limite restante: R$ {:.2f}\".format(limite))\n",
        "    else:\n",
        "        print(\"Opção inválida. Encerrando operação.\")\n",
        "\n",
        "else:\n",
        "    print(\"Usuário ou senha incorretos. Tente novamente.\")\n"
      ],
      "metadata": {
        "colab": {
          "base_uri": "https://localhost:8080/"
        },
        "id": "vRhlvf4WJVsY",
        "outputId": "2f7662ee-0f1d-4272-fa88-ada16c82cc6d"
      },
      "execution_count": 15,
      "outputs": [
        {
          "output_type": "stream",
          "name": "stdout",
          "text": [
            "Digite seu nome de usuário: usuario_correto\n",
            "Digite sua senha: senha_correta\n",
            "Usuário ou senha incorretos. Tente novamente.\n"
          ]
        }
      ]
    }
  ]
}