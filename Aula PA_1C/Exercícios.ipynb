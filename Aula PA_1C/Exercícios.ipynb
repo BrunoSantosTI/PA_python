{
  "nbformat": 4,
  "nbformat_minor": 0,
  "metadata": {
    "colab": {
      "provenance": [],
      "authorship_tag": "ABX9TyMywXqkn8EJqTuuiUo7Y1nb",
      "include_colab_link": true
    },
    "kernelspec": {
      "name": "python3",
      "display_name": "Python 3"
    },
    "language_info": {
      "name": "python"
    }
  },
  "cells": [
    {
      "cell_type": "markdown",
      "metadata": {
        "id": "view-in-github",
        "colab_type": "text"
      },
      "source": [
        "<a href=\"https://colab.research.google.com/github/BrunoSantosTI/PA_python/blob/main/Aula%20PA_1C/Exerc%C3%ADcios.ipynb\" target=\"_parent\"><img src=\"https://colab.research.google.com/assets/colab-badge.svg\" alt=\"Open In Colab\"/></a>"
      ]
    },
    {
      "cell_type": "code",
      "execution_count": 1,
      "metadata": {
        "colab": {
          "base_uri": "https://localhost:8080/"
        },
        "id": "I5KtS54c98W9",
        "outputId": "a153d778-8525-4ddf-9459-1c3c0c05b09a"
      },
      "outputs": [
        {
          "output_type": "stream",
          "name": "stdout",
          "text": [
            "digite o lado do retângulo2\n",
            "digite a altura do retângulo3\n",
            "A área do retângulo é 6.0 cm2\n"
          ]
        }
      ],
      "source": [
        "#Calcular a área do retângulo\n",
        "\n",
        "##Entrada\n",
        "lado = float(input('digite o lado do retângulo'))\n",
        "altura = float(input('digite a altura do retângulo'))\n",
        "\n",
        "##processamento\n",
        "área = lado * altura\n",
        "\n",
        "##Saída\n",
        "print('A área do retângulo é', área, 'cm2')"
      ]
    },
    {
      "cell_type": "code",
      "source": [
        "#Calcular a soma de dois números\n",
        "\n",
        "##Entrada\n",
        "num1 = float(input('digite o primeiro número'))\n",
        "num2 = float(input('digite o segundo número'))\n",
        "\n",
        "##Processamento\n",
        "\n",
        "soma = num1 + num2\n",
        "\n",
        "##Saída\n",
        "\n",
        "print('A soma dos números é', soma)"
      ],
      "metadata": {
        "colab": {
          "base_uri": "https://localhost:8080/"
        },
        "id": "GSMmea6FAFyN",
        "outputId": "d88cd94f-db88-4a91-b54b-fe03f4dab808"
      },
      "execution_count": 2,
      "outputs": [
        {
          "output_type": "stream",
          "name": "stdout",
          "text": [
            "digite o primeiro número2\n",
            "digite o segundo número5\n",
            "A soma dos números é 7.0\n"
          ]
        }
      ]
    },
    {
      "cell_type": "code",
      "source": [
        "#Calcular a subtração de dois números\n",
        "\n",
        "##Entrada\n",
        "num1 = float(input('digite o primeiro número'))\n",
        "num2 = float(input('digite o segundo número'))\n",
        "\n",
        "##Processamento\n",
        "\n",
        "subtração = num1 - num2\n",
        "\n",
        "##Saída\n",
        "\n",
        "print('A soma dos números é', subtração)"
      ],
      "metadata": {
        "colab": {
          "base_uri": "https://localhost:8080/"
        },
        "id": "L8_xXqt1BSY0",
        "outputId": "d0595a7f-b35a-4cf0-839b-d14df2a0f84a"
      },
      "execution_count": 5,
      "outputs": [
        {
          "output_type": "stream",
          "name": "stdout",
          "text": [
            "digite o primeiro número9\n",
            "digite o segundo número4\n",
            "A soma dos números é 5.0\n"
          ]
        }
      ]
    },
    {
      "cell_type": "code",
      "source": [
        "#Calcular a divisão de dois números\n",
        "\n",
        "##Entrada\n",
        "num1 = float(input('digite o primeiro número'))\n",
        "num2 = float(input('digite o segundo número'))\n",
        "\n",
        "##Processamento\n",
        "\n",
        "divisão = num1 / num2\n",
        "\n",
        "##Saída\n",
        "\n",
        "print('A divisão dos números é', divisão)"
      ],
      "metadata": {
        "colab": {
          "base_uri": "https://localhost:8080/"
        },
        "id": "KXzBtbLLBom2",
        "outputId": "7e2df96a-658d-4d95-fd14-4af49d29c127"
      },
      "execution_count": 4,
      "outputs": [
        {
          "output_type": "stream",
          "name": "stdout",
          "text": [
            "digite o primeiro número9\n",
            "digite o segundo número3\n",
            "A divisão dos números é 3.0\n"
          ]
        }
      ]
    }
  ]
}