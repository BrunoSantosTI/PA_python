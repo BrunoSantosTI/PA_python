{
  "nbformat": 4,
  "nbformat_minor": 0,
  "metadata": {
    "colab": {
      "provenance": [],
      "authorship_tag": "ABX9TyOxUildWJ7t7XlBGLriTr1G",
      "include_colab_link": true
    },
    "kernelspec": {
      "name": "python3",
      "display_name": "Python 3"
    },
    "language_info": {
      "name": "python"
    }
  },
  "cells": [
    {
      "cell_type": "markdown",
      "metadata": {
        "id": "view-in-github",
        "colab_type": "text"
      },
      "source": [
        "<a href=\"https://colab.research.google.com/github/BrunoSantosTI/PA_python/blob/main/Aula%20PA_1C/vari%C3%A1veis_e_operadores_l%C3%B3gicos.ipynb\" target=\"_parent\"><img src=\"https://colab.research.google.com/assets/colab-badge.svg\" alt=\"Open In Colab\"/></a>"
      ]
    },
    {
      "cell_type": "code",
      "execution_count": 12,
      "metadata": {
        "colab": {
          "base_uri": "https://localhost:8080/"
        },
        "id": "evDPykdaVFUW",
        "outputId": "d7ac21c6-6582-4028-f18d-86cea3d2f2dc"
      },
      "outputs": [
        {
          "output_type": "stream",
          "name": "stdout",
          "text": [
            "digite a nota da prova 1: 9.5\n",
            "digite a nota da prova 2: 7.6\n",
            "A média das provas é igual a 8.55\n"
          ]
        }
      ],
      "source": [
        "#calcular a média de 2 provas\n",
        "\n",
        "##Entrada\n",
        "P1=float(input('digite a nota da prova 1: '))\n",
        "P2=float(input('digite a nota da prova 2: '))\n",
        "\n",
        "##Processamento\n",
        "média=(P1 + P2)/2\n",
        "\n",
        "##Saída\n",
        "print('A média das provas é igual a',média)"
      ]
    },
    {
      "cell_type": "code",
      "source": [
        "#converter graus Celcius para Fahrenheit\n",
        "\n",
        "##Entrada\n",
        "C=float(input('digite a temperatura emgruas Celcius: '))\n",
        "\n",
        "##Processamento\n",
        "F=(C * 1.8)+32\n",
        "\n",
        "##Saída\n",
        "print('A temperatura convertida para Fahrenhit é igual a', F)"
      ],
      "metadata": {
        "colab": {
          "base_uri": "https://localhost:8080/"
        },
        "id": "bC0sN9ikatKw",
        "outputId": "9c7e1536-b5a4-4f8e-953e-826c5aec74d6"
      },
      "execution_count": 19,
      "outputs": [
        {
          "output_type": "stream",
          "name": "stdout",
          "text": [
            "digite a temperatura emgruas Celcius: 25\n",
            "A temperatura convertida para Fahrenhit é igual a 77.0\n"
          ]
        }
      ]
    },
    {
      "cell_type": "code",
      "source": [
        "#converter graus Fahrenheit para Celcius\n",
        "\n",
        "##Entrada\n",
        "F=float(input('digite a temperatura em gruas Fahrenhite: '))\n",
        "\n",
        "##Processamento\n",
        "C=(F - 32)/ 1.8\n",
        "\n",
        "##Saída\n",
        "print('A temperatura convertida para Celcius é igual a', C)"
      ],
      "metadata": {
        "colab": {
          "base_uri": "https://localhost:8080/"
        },
        "id": "2yy6V0bId15m",
        "outputId": "41e502ae-563f-49f3-d343-a30192c75ae9"
      },
      "execution_count": 18,
      "outputs": [
        {
          "output_type": "stream",
          "name": "stdout",
          "text": [
            "digite a temperatura em gruas Fahrenhite: 86\n",
            "A temperatura convertida para Celcius é igual a 30.0\n"
          ]
        }
      ]
    },
    {
      "cell_type": "code",
      "source": [
        "#calcular o valor de 2 peças\n",
        "\n",
        "##Entrada\n",
        "Q=float(input('digite a quantidade da peças: '))\n",
        "V=float(input('digite o valor da peça: '))\n",
        "\n",
        "##Processamento\n",
        "VT=Q * V\n",
        "\n",
        "##Saída\n",
        "print('O valor totaldas peças é igual a', VT)"
      ],
      "metadata": {
        "colab": {
          "base_uri": "https://localhost:8080/"
        },
        "id": "HB-RN46Fj4kw",
        "outputId": "a33ae6a2-726e-49cc-b47e-845f5a32b64a"
      },
      "execution_count": 26,
      "outputs": [
        {
          "output_type": "stream",
          "name": "stdout",
          "text": [
            "digite a quantidade da peças: 7\n",
            "digite o valor da peça: 3\n",
            "O valor totaldas peças é igual a 21.0\n"
          ]
        }
      ]
    }
  ]
}