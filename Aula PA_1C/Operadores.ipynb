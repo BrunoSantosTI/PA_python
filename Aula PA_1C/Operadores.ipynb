{
  "nbformat": 4,
  "nbformat_minor": 0,
  "metadata": {
    "colab": {
      "provenance": [],
      "authorship_tag": "ABX9TyOtBQ/ppAp1GgQKaPPdvfj4",
      "include_colab_link": true
    },
    "kernelspec": {
      "name": "python3",
      "display_name": "Python 3"
    },
    "language_info": {
      "name": "python"
    }
  },
  "cells": [
    {
      "cell_type": "markdown",
      "metadata": {
        "id": "view-in-github",
        "colab_type": "text"
      },
      "source": [
        "<a href=\"https://colab.research.google.com/github/BrunoSantosTI/PA_python/blob/main/Aula%20PA_1C/Operadores.ipynb\" target=\"_parent\"><img src=\"https://colab.research.google.com/assets/colab-badge.svg\" alt=\"Open In Colab\"/></a>"
      ]
    },
    {
      "cell_type": "markdown",
      "source": [
        "1. Peça para o usuário digitar um valor informe se ele é par ou ímpar."
      ],
      "metadata": {
        "id": "2Uv-lxzLt9mi"
      }
    },
    {
      "cell_type": "code",
      "execution_count": 13,
      "metadata": {
        "id": "Te5HD8UvpTKM",
        "colab": {
          "base_uri": "https://localhost:8080/"
        },
        "outputId": "f90cb635-927e-42c8-eb99-2173b755ce63"
      },
      "outputs": [
        {
          "output_type": "stream",
          "name": "stdout",
          "text": [
            "digite o número que quer saber se é ímpar ou par: 7\n",
            "O número:  7.0 é impar True\n",
            "O número:  7.0 é par False\n"
          ]
        }
      ],
      "source": [
        "#descobrir se um número é ímpar ou par\n",
        "##Entrada\n",
        "valor=float(input('digite o número que quer saber se é ímpar ou par: '))\n",
        "\n",
        "##Processamento\n",
        "impar = (valor%2 == 1)\n",
        "par = (valor%2 == 0)\n",
        "\n",
        "##Saída\n",
        "print('O número: ',valor,'é impar', impar)\n",
        "print('O número: ',valor,'é par', par)"
      ]
    },
    {
      "cell_type": "markdown",
      "source": [
        "2. Faça um algoritmo em Python que receba o valor de três lados de um possível\n",
        "triângulo (l1, l2 e l3) e utilize operadores relacionais e lógicos para:\n",
        "\n",
        "a. Verificar se os valores informados podem formar um triângulo.\n",
        "\n",
        "b. Identificar se o triângulo é equilátero, escaleno ou isósceles.\n",
        "\n",
        "c. O programa deve atribuir True ou False para cada uma das seguintes\n",
        "variáveis:\n",
        "\n",
        "i. triangulo: True se os lados puderem formar um triângulo.\n",
        "\n",
        "ii. equilatero: True se o triângulo for equilátero.\n",
        "\n",
        "iii. escaleno: True se o triângulo for escaleno.\n",
        "\n",
        "iv. isosceles: True se o triângulo for isósceles.\n",
        "\n",
        "• Dica: Um triângulo só é possível se a soma de dois lados for maior que o\n",
        "terceiro, para os três pares possíveis.\n",
        "o Lógica necessária\n",
        "\n",
        "▪ Para ser um triângulo:\n",
        "\n",
        "▪ l1+l2>l3 e\n",
        "\n",
        "▪ l1+l3>l2l e\n",
        "\n",
        "▪ l2+l3>l1\n",
        "\n",
        "• Tipos de triângulo:\n",
        "\n",
        "• Equilátero: todos os lados iguais.\n",
        "\n",
        "• Escaleno: todos os lados diferentes.\n",
        "\n",
        "• Isósceles: dois lados iguais.\n"
      ],
      "metadata": {
        "id": "onfki1OnuSgK"
      }
    },
    {
      "cell_type": "code",
      "source": [
        "#descobrindo triângulos\n",
        "##Entrada\n",
        "l1=float(input('digite o valor do lado 1: '))\n",
        "l2=float(input('digite o valor do lado 2: '))\n",
        "l3=float(input('digite o valor do lado 3: '))\n",
        "\n",
        "##Processamento\n",
        "triangulo = (l1+l2>l3) and (l1+l3>l2) and (l2+l3>l1)\n",
        "\n",
        "equilatero = (l1 == l2) and (l1 == l3) and (l2 == l3)\n",
        "escaleno = (l1!=l2) and (l1!=l3) and (l2!=l3)\n",
        "isosceles = (l1 == l2 !=l3) or (l1 == l3 !=l2) or (l2 == l3 !=l1)\n",
        "\n",
        "##Saída\n",
        "print('Forma um triângulo?', triangulo)\n",
        "print('Forma um triângulo equilátero?', equilatero)\n",
        "print('Forma um triângulo escaleno?', escaleno)\n",
        "print('Forma um triângulo isósceles?', isosceles)"
      ],
      "metadata": {
        "id": "yFs4-Vd8ujfb",
        "colab": {
          "base_uri": "https://localhost:8080/"
        },
        "outputId": "7510deef-7eb7-45e2-8561-5a5f106a17be"
      },
      "execution_count": 7,
      "outputs": [
        {
          "output_type": "stream",
          "name": "stdout",
          "text": [
            "digite o valor do lado 1: 3\n",
            "digite o valor do lado 2: 3\n",
            "digite o valor do lado 3: 3\n",
            "Forma um triângulo? True\n",
            "Forma um triângulo equilátero? True\n",
            "Forma um triângulo escaleno? False\n",
            "Forma um triângulo isósceles? False\n"
          ]
        }
      ]
    },
    {
      "cell_type": "markdown",
      "source": [
        "3. Faça um programa que solicite peso e altura, informe seu IMC. Ao final informe se\n",
        "ele está, abaixo do peso,peso ideal ou acima do peso. fórmula do IMC:\n",
        "\n",
        "(peso/altura^2), siga a tabela abaixo:\n",
        "IMC\n",
        "\n",
        "• Menos do que 18,5 ==> Abaixo do Peso\n",
        "\n",
        "• Entre 18,5 e 24,9 ==>Peso normal\n",
        "\n",
        "• Entre 25 e 29,9 ==> Sobrepeso\n",
        "\n",
        "• Entre 30 e 34,9 ==> Obesidade grau 1\n",
        "\n",
        "• Entre 35 e 39,9 ==> Obesidade grau 2\n",
        "\n",
        "• Mais do que 40 ==> Obesidade grau 3"
      ],
      "metadata": {
        "id": "DB32wJYo1O9-"
      }
    },
    {
      "cell_type": "code",
      "source": [
        "#IMC\n",
        "##entrada\n",
        "peso=float(input('digite seu peso: '))\n",
        "altura=float(input('digite sua altura: '))\n",
        "\n",
        "##processamento\n",
        "IMC=(peso/altura**2)\n",
        "\n",
        "abaixo_do_peso = (IMC<18.5)\n",
        "peso_normal = (IMC>=18.5) and (IMC<=24.9)\n",
        "sobrepeso = (IMC>=25) and (IMC<=29.9)\n",
        "obesidade_grau_1 = (IMC>=30) and (IMC<=34.9)\n",
        "obesidade_grau_2 = (IMC>=35) and (IMC<=39.9)\n",
        "obesidade_grau_3 = (IMC>=40)\n",
        "\n",
        "##saida\n",
        "print('seu IMC é: ', IMC)\n",
        "print('abaixo do peso?', abaixo_do_peso)\n",
        "print('peso normal?', peso_normal)\n",
        "print('sopbrepeso', sobrepeso)\n",
        "print('obesidade grau 1?', obesidade_grau_1)\n",
        "print('obesidade grau 2?', obesidade_grau_2)\n",
        "print('obesidade grau 3?', obesidade_grau_3)"
      ],
      "metadata": {
        "colab": {
          "base_uri": "https://localhost:8080/"
        },
        "id": "uwaqiiDd1dw_",
        "outputId": "0822e62d-ec12-4e95-e947-2afb0526e331"
      },
      "execution_count": 9,
      "outputs": [
        {
          "output_type": "stream",
          "name": "stdout",
          "text": [
            "digite seu peso: 62\n",
            "digite sua altura: 1.80\n",
            "seu IMC é:  19.1358024691358\n",
            "abaixo do peso? False\n",
            "peso normal? True\n",
            "sopbrepeso False\n",
            "obesidade grau 1? False\n",
            "obesidade grau 2? False\n",
            "obesidade grau 3? False\n"
          ]
        }
      ]
    },
    {
      "cell_type": "markdown",
      "source": [
        "4. Faça um programa que solicite altura e idade do usuário, informe se ele pode ou\n",
        "nao competir. Regras: Para competir no campeonato de vôlei o usuário de ter pelo\n",
        "menos 1.75 de altura e 18 anos."
      ],
      "metadata": {
        "id": "oOlcKTlN50Cm"
      }
    },
    {
      "cell_type": "code",
      "source": [
        "#competição de vôlei\n",
        "##entrada\n",
        "altura=float(input('digite sua altura: '))\n",
        "idade=float(input('digite sua idade: '))\n",
        "\n",
        "##processamento\n",
        "pode=(altura>=1.75) and (idade>=18)\n",
        "\n",
        "##saida\n",
        "print('você pode jogar?: ', pode)"
      ],
      "metadata": {
        "colab": {
          "base_uri": "https://localhost:8080/"
        },
        "id": "dbMHoiad6NDU",
        "outputId": "3b157472-b53a-499d-bfc9-b91d5ec1dcc6"
      },
      "execution_count": 12,
      "outputs": [
        {
          "output_type": "stream",
          "name": "stdout",
          "text": [
            "digite sua altura: 1.80\n",
            "digite sua idade: 38759834\n",
            "você pode jogar?:  True\n"
          ]
        }
      ]
    }
  ]
}