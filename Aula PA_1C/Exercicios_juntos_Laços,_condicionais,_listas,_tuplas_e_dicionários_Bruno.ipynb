{
  "nbformat": 4,
  "nbformat_minor": 0,
  "metadata": {
    "colab": {
      "provenance": [],
      "include_colab_link": true
    },
    "kernelspec": {
      "name": "python3",
      "display_name": "Python 3"
    },
    "language_info": {
      "name": "python"
    }
  },
  "cells": [
    {
      "cell_type": "markdown",
      "metadata": {
        "id": "view-in-github",
        "colab_type": "text"
      },
      "source": [
        "<a href=\"https://colab.research.google.com/github/BrunoSantosTI/PA_python/blob/main/Aula%20PA_1C/Exercicios_juntos_La%C3%A7os%2C_condicionais%2C_listas%2C_tuplas_e_dicion%C3%A1rios_Bruno.ipynb\" target=\"_parent\"><img src=\"https://colab.research.google.com/assets/colab-badge.svg\" alt=\"Open In Colab\"/></a>"
      ]
    },
    {
      "cell_type": "markdown",
      "source": [
        "Lista de Exercícios unindo tudo que foi ensinado até o momento:\n",
        "\n",
        "\n",
        "*   Condicionais\n",
        "*   Laços de Reptição\n",
        "*   Listas\n",
        "*   Tuplas\n",
        "*   Dicionários\n",
        "*   Manipulação de Strings\n",
        "\n",
        "\n",
        "\n",
        "\n",
        "\n"
      ],
      "metadata": {
        "id": "JsFcwNObBRcd"
      }
    },
    {
      "cell_type": "markdown",
      "source": [
        "# Tuplas - Acesso e Desempacotamento\n",
        "\n",
        "1) Crie uma tupla contendo três tipos diferentes de dados: um número, uma string e uma lista. Use um laço de repetição para acessar e imprimir cada item da tupla. Além disso, dentro do laço, acesse e imprima o segundo item da lista que está dentro da tupla."
      ],
      "metadata": {
        "id": "HM91bKpkBqGI"
      }
    },
    {
      "cell_type": "code",
      "source": [
        "dados = (15, \"Bruno\",[1,2,3])\n",
        "\n",
        "for i in dados:\n",
        "  print(i)"
      ],
      "metadata": {
        "colab": {
          "base_uri": "https://localhost:8080/"
        },
        "id": "sCbCOqPVYeRv",
        "outputId": "a23df84f-5c24-4010-882b-6391792bd3bd"
      },
      "execution_count": 14,
      "outputs": [
        {
          "output_type": "stream",
          "name": "stdout",
          "text": [
            "15\n",
            "Bruno\n",
            "[1, 2, 3]\n"
          ]
        }
      ]
    },
    {
      "cell_type": "code",
      "source": [],
      "metadata": {
        "colab": {
          "base_uri": "https://localhost:8080/"
        },
        "id": "pZ8TJ7EFYsjg",
        "outputId": "421ac61c-a610-4c30-e322-382b944de8df"
      },
      "execution_count": null,
      "outputs": [
        {
          "output_type": "execute_result",
          "data": {
            "text/plain": [
              "tuple"
            ]
          },
          "metadata": {},
          "execution_count": 2
        }
      ]
    },
    {
      "cell_type": "markdown",
      "source": [
        "# Dicionários - Criação e Acesso\n",
        "## Cadastro de Pessoas e Análise de Alturas\n",
        "2) Solicite ao usuário para inserir o nome e a altura de várias pessoas. Preencha um dicionário com essas informações e depois encontre e imprima o nome e a altura da pessoa mais alta e da mais baixa."
      ],
      "metadata": {
        "id": "6vEHxGtjBxMi"
      }
    },
    {
      "cell_type": "code",
      "source": [
        "alturas = {}\n",
        "\n",
        "while True:\n",
        "  nome = input(\"Digite o nome da pessoa para cadastro ou sair: \").lower()\n",
        "\n",
        "  if nome == \"sair\":\n",
        "    pessoasalta = max(alturas, key=alturas.get)\n",
        "    pessoabaixa = min(alturas, key=alturas.get)\n",
        "    break\n",
        "  altura = float(input(f\"Digite a altura de {nome}: \"))\n",
        "\n",
        "  alturas[nome]= altura\n",
        "  print(alturas)\n",
        "\n",
        "print(f\"A pessoa mais alta é {pessoasalta} com altura de {alturas[pessoasalta]}\")\n",
        "print(f\"A pessoa mais baixa é {pessoabaixa} com altura de {alturas[pessoabaixa]}\")\n"
      ],
      "metadata": {
        "id": "MpJYauvTZR69",
        "colab": {
          "base_uri": "https://localhost:8080/"
        },
        "outputId": "df35fb65-b687-4d75-87d6-94130bc5e8f9"
      },
      "execution_count": 15,
      "outputs": [
        {
          "output_type": "stream",
          "name": "stdout",
          "text": [
            "Digite o nome da pessoa para cadastro ou sair: bruno\n",
            "Digite a altura de bruno: 1.80\n",
            "{'bruno': 1.8}\n",
            "Digite o nome da pessoa para cadastro ou sair: vanda\n",
            "Digite a altura de vanda: 1.60\n",
            "{'bruno': 1.8, 'vanda': 1.6}\n",
            "Digite o nome da pessoa para cadastro ou sair: sair\n",
            "A pessoa mais alta é bruno com altura de 1.8\n",
            "A pessoa mais baixa é vanda com altura de 1.6\n"
          ]
        }
      ]
    },
    {
      "cell_type": "markdown",
      "source": [
        "# Lista, laços e Condicionais\n",
        "3) Descrição: Crie uma lista com cinco números inteiros. Use um laço de repetição e uma condicional para imprimir apenas os números que são múltiplos de 3."
      ],
      "metadata": {
        "id": "FytD4QZyELAt"
      }
    },
    {
      "cell_type": "code",
      "source": [
        "numeros = [4, 9, 12, 7, 15]\n",
        "\n",
        "for n in numeros:\n",
        "    if n % 3 == 0:\n",
        "        print(n)"
      ],
      "metadata": {
        "colab": {
          "base_uri": "https://localhost:8080/"
        },
        "id": "k4So_S-F2MTK",
        "outputId": "0ee16ab5-56f3-46f6-91ee-4e814bf5ebc3"
      },
      "execution_count": 20,
      "outputs": [
        {
          "output_type": "stream",
          "name": "stdout",
          "text": [
            "9\n",
            "12\n",
            "15\n"
          ]
        }
      ]
    },
    {
      "cell_type": "markdown",
      "source": [
        "# Manipulação de Strings e Condicionais\n",
        "4) Descrição: Crie uma string com uma frase. Use uma condicional para verificar se a frase contém a palavra \"Python\". Se sim, substitua a palavra \"Python\" por \"programação\" e imprima a nova frase."
      ],
      "metadata": {
        "id": "hwn3Fz8aEYSH"
      }
    },
    {
      "cell_type": "code",
      "source": [
        "# Criando a string\n",
        "frase = \"Estou aprendendo Python e gostando muito!\"\n",
        "print(frase)\n",
        "\n",
        "# Verificando se a palavra \"Python\" está na frase\n",
        "if \"Python\" in frase:\n",
        "    print('Há a palavra Python! Vamos substituí-la!')\n",
        "    frase = frase.replace(\"Python\", \"programação\")\n",
        "    print(frase)\n",
        "else:\n",
        "    print(\"A frase não contém a palavra 'Python'.\")"
      ],
      "metadata": {
        "colab": {
          "base_uri": "https://localhost:8080/"
        },
        "id": "1sjv8hDD44LS",
        "outputId": "f30010cd-a4ac-4c77-f68a-0527991ea8f3"
      },
      "execution_count": 22,
      "outputs": [
        {
          "output_type": "stream",
          "name": "stdout",
          "text": [
            "Estou aprendendo Python e gostando muito!\n",
            "Há a palavra Python! Vamos substituí-la!\n",
            "Estou aprendendo programação e gostando muito!\n"
          ]
        }
      ]
    },
    {
      "cell_type": "markdown",
      "source": [
        "# Simulação de Alfândega com Cadastro Dinâmico de Itens usando dicionário\n",
        "5) Simule uma situação de alfândega onde o funcionário cadastra itens novos encontrados na mala de uma pessoa que veio de uma viagem internacional. Após o cadastro de todos os itens, o programa imprime uma nota com todos os itens e seus preços, calcula o valor total e, se o valor total ultrapassar 500 dólares, calcula o valor de 60% a ser pago."
      ],
      "metadata": {
        "id": "hPP-JNTxEwFT"
      }
    },
    {
      "cell_type": "code",
      "source": [
        "from concurrent.futures.process import ProcessPoolExecutor\n",
        "# Simulação de alfândega com dicionário (apenas if, elif, else, while, for)\n",
        "\n",
        "cadastro = {}  # dicionário para armazenar {item: preço}\n",
        "\n",
        "print(\"=== Sistema de Alfândega ===\")\n",
        "print(\"Cadastre os itens encontrados na mala.\")\n",
        "print(\"Digite 'fim' para encerrar o cadastro.\\n\")\n",
        "\n",
        "while True:\n",
        "    item = input(\"Nome do item (ou 'sair' para encerrar): \")\n",
        "    if item == \"sair\":\n",
        "        break\n",
        "    preco = float(input(\"Preço em dólares de \" + item + \": \"))\n",
        "    cadastro[item] = preco\n",
        "\n",
        "print(\"\\n=== Nota da Alfândega ===\")\n",
        "total = 0\n",
        "\n",
        "for item in cadastro:\n",
        "    preco = cadastro[item]\n",
        "    print(item, \"- US$\", preco)\n",
        "    total = total + preco\n",
        "\n",
        "print(\"Valor total: US$\", total)\n",
        "\n",
        "limite = 500\n",
        "if total > limite:\n",
        "    excedente = total - limite\n",
        "    imposto = excedente * 0.60\n",
        "    print(\"Excedente: US$\", excedente)\n",
        "    print(\"Imposto (60%): US$\", imposto)\n",
        "else:\n",
        "    print(\"Nenhum imposto a pagar.\")\n"
      ],
      "metadata": {
        "colab": {
          "base_uri": "https://localhost:8080/"
        },
        "id": "8HSijIi1qfGF",
        "outputId": "0a548c27-8c88-4be6-9a92-06f102e4a6af"
      },
      "execution_count": 13,
      "outputs": [
        {
          "output_type": "stream",
          "name": "stdout",
          "text": [
            "=== Sistema de Alfândega ===\n",
            "Cadastre os itens encontrados na mala.\n",
            "Digite 'fim' para encerrar o cadastro.\n",
            "\n",
            "Nome do item (ou 'sair' para encerrar): iphone\n",
            "Preço em dólares de iphone: 10000\n",
            "Nome do item (ou 'sair' para encerrar): banana\n",
            "Preço em dólares de banana: 5\n",
            "Nome do item (ou 'sair' para encerrar): sair\n",
            "\n",
            "=== Nota da Alfândega ===\n",
            "iphone - US$ 10000.0\n",
            "banana - US$ 5.0\n",
            "Valor total: US$ 10005.0\n",
            "Excedente: US$ 9505.0\n",
            "Imposto (60%): US$ 5703.0\n"
          ]
        }
      ]
    },
    {
      "cell_type": "code",
      "source": [],
      "metadata": {
        "id": "Ks-KWNzxtyus"
      },
      "execution_count": 13,
      "outputs": []
    },
    {
      "cell_type": "markdown",
      "source": [
        "# Identificação de Palavras Negativas em um Texto\n",
        "6) Você vai criar um programa em Python para analisar um texto e identificar palavras que expressam pensamentos negativos. Para isso, você usará uma lista de palavras negativas fornecida e verificará quais dessas palavras estão presentes no texto fornecido pelo usuário. Exemplo de palavras negtivas, acrescente mais na lista: # Lista de palavras negativas palavras_negativas = ['triste', 'deprimido', 'ansioso', 'desapontado', 'frustrado']"
      ],
      "metadata": {
        "id": "OH8D047zVsp-"
      }
    },
    {
      "cell_type": "code",
      "source": [
        "# Lista de palavras negativas\n",
        "palavras_negativas = [\n",
        "    'triste', 'deprimido', 'ansioso', 'desapontado', 'frustrado',\n",
        "    'cansado', 'raiva', 'nervoso', 'estressado', 'infeliz',\n",
        "    'desanimado', 'irritado', 'solitário', 'culpado', 'inseguro'\n",
        "]\n",
        "\n",
        "# Entrada do usuário\n",
        "texto = input(\"Digite um texto: \").lower()\n",
        "\n",
        "# Lista para armazenar palavras encontradas\n",
        "encontradas = []\n",
        "\n",
        "# Verificando se as palavras negativas estão no texto\n",
        "for palavra in palavras_negativas:\n",
        "    if palavra in texto:\n",
        "        encontradas.append(palavra)\n",
        "\n",
        "# Exibindo resultado\n",
        "if len(encontradas) > 0:\n",
        "    print(\"Palavras negativas encontradas no texto:\")\n",
        "    for p in encontradas:\n",
        "        print(\"-\", p)\n",
        "else:\n",
        "    print(\"Nenhuma palavra negativa encontrada no texto.\")"
      ],
      "metadata": {
        "id": "xDSrYWf_Vr8G",
        "colab": {
          "base_uri": "https://localhost:8080/"
        },
        "outputId": "cf8e7116-9eee-460f-b003-890a8e547a57"
      },
      "execution_count": 23,
      "outputs": [
        {
          "output_type": "stream",
          "name": "stdout",
          "text": [
            "Digite um texto: eu sou um merda na vida, não gosto de nada, estou completamente desapontado com essa triste vida em que vivo\n",
            "Palavras negativas encontradas no texto:\n",
            "- triste\n",
            "- desapontado\n"
          ]
        }
      ]
    }
  ]
}